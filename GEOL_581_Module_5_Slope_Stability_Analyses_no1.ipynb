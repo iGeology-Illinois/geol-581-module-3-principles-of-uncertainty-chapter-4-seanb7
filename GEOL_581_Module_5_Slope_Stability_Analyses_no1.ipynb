{
  "cells": [
    {
      "cell_type": "markdown",
      "metadata": {
        "id": "view-in-github",
        "colab_type": "text"
      },
      "source": [
        "<a href=\"https://colab.research.google.com/github/iGeology-Illinois/geol-581-module-3-principles-of-uncertainty-chapter-4-seanb7/blob/main/GEOL_581_Module_5_Slope_Stability_Analyses_no1.ipynb\" target=\"_parent\"><img src=\"https://colab.research.google.com/assets/colab-badge.svg\" alt=\"Open In Colab\"/></a>"
      ]
    },
    {
      "cell_type": "markdown",
      "metadata": {
        "id": "PqBynrRj7Luu"
      },
      "source": [
        "# GEOL 581: Module 5 | Slope Stability Analyses\n",
        "\n",
        "## Introduction\n",
        "\n",
        "In this notebook, we will explore how to apply and compare different slope stability approaches, referencing the methods described in the textbook sections on kinematic and mechanical preconditions, plane/rotational sliding, and the method of slices (including Figs. 10.31–10.37, etc.). We will use Python to model:\n",
        "\n",
        "- Plane sliding in non-cohesive soils (and how friction angle and slope angle interplay).  \n",
        "- The method of slices in cohesive soils (membrane vs. flow net solutions).  \n",
        "- Sensitivity analyses, to see how factor of safety changes with varying parameters.\n",
        "\n",
        "Some key ideas from the referenced pages:\n",
        "\n",
        "1. Kinematic and Mechanical Preconditions  \n",
        "   - A slope can fail only if it is capable of forming a particular failure mechanism (kinematic condition)  \n",
        "   - And if a trigger disturbs the force equilibrium (mechanical condition).\n",
        "\n",
        "2. Plane Sliding vs. Rotational Sliding  \n",
        "   - Plane sliding is when the failure surface is roughly planar (Fig. 10.31, 10.32).  \n",
        "   - Rotational sliding is when the failure surface is curved, often occurring in cohesive soils (Fig. 10.34, 10.35).\n",
        "\n",
        "3. Method of Slices  \n",
        "   - We divide the potential sliding mass into vertical slices.  \n",
        "   - Each slice’s forces (weight, cohesion, friction, pore-water pressures) are evaluated.  \n",
        "   - Two approaches, referencing Fig. 10.37:  \n",
        "     - Membrane solution: Groundwater is interpreted as acting along a membrane on the slip surface.  \n",
        "     - Flow net solution: Uses equipotential lines and flow nets to apply seepage forces directly within each slice.\n",
        "\n",
        "Below, you will find three main coding tasks, each preceded by explanatory Markdown cells that guide your analysis. This assignment is deliberately open-ended so you can adapt or extend the models to more complex scenarios.\n"
      ]
    },
    {
      "cell_type": "code",
      "execution_count": 1,
      "metadata": {
        "id": "1wIJ8No17Luw",
        "outputId": "ca77b3a3-00ec-439f-edf6-b03765b3d9a1",
        "colab": {
          "base_uri": "https://localhost:8080/"
        }
      },
      "outputs": [
        {
          "output_type": "stream",
          "name": "stdout",
          "text": [
            "Plane sliding FOS with phi=30.0°, beta=25.0°: 1.238\n"
          ]
        }
      ],
      "source": [
        "# Part 1: Basic Plane Sliding\n",
        "# We'll begin with a simple function to estimate a factor of safety (FOS) for plane sliding.\n",
        "# This function is intentionally simplified. Refer back to Figures 10.31 and 10.32 in the textbook\n",
        "# for details about how to incorporate seepage forces, partial saturation, etc.\n",
        "\n",
        "import numpy as np\n",
        "\n",
        "def plane_sliding_fos(phi_deg, beta_deg):\n",
        "    \"\"\"\n",
        "    Computes a very simplified factor of safety for plane sliding in non-cohesive soil.\n",
        "    phi_deg : friction angle (degrees)\n",
        "    beta_deg: slope angle (degrees)\n",
        "    Returns : factor of safety (dimensionless)\n",
        "    \"\"\"\n",
        "    phi = np.radians(phi_deg)\n",
        "    beta = np.radians(beta_deg)\n",
        "\n",
        "    # For demonstration: ratio of available friction to driving shear\n",
        "    # This is NOT a full formula; adapt from the text's equations if desired.\n",
        "    if np.tan(beta) == 0:\n",
        "        return np.inf\n",
        "\n",
        "    fos = np.tan(phi) / np.tan(beta)\n",
        "    return fos\n",
        "\n",
        "# Example usage:\n",
        "phi_test = 30.0  # friction angle in degrees\n",
        "beta_test = 25.0 # slope angle in degrees\n",
        "fos_result = plane_sliding_fos(phi_test, beta_test)\n",
        "print(f\"Plane sliding FOS with phi={phi_test}°, beta={beta_test}°: {fos_result:.3f}\")\n"
      ]
    },
    {
      "cell_type": "markdown",
      "metadata": {
        "id": "PPPeUVmI7Lux"
      },
      "source": [
        "## Part 1 Instructions\n",
        "\n",
        "1. Review how the equilibrium of forces is established for plane sliding in non-cohesive soil.  \n",
        "   - Check Figures 10.31 and 10.32 for the polygon of forces.  \n",
        "   - Account for friction angle φ and slope angle β.  \n",
        "   - (Optionally) consider seepage forces if the groundwater table intersects the slope.\n",
        "\n",
        "2. Modify the `plane_sliding_fos` function to incorporate additional parameters:\n",
        "   - Buoyancy or seepage if the water table is parallel to the slope (Fig. 10.32).\n",
        "   - External loads if relevant.\n",
        "\n",
        "3. Discuss in a separate Markdown cell how your final formula differs from the simplified example above.\n"
      ]
    },
    {
      "cell_type": "code",
      "execution_count": null,
      "metadata": {
        "id": "NbccdBdv7Lux"
      },
      "outputs": [],
      "source": [
        "# Part 2: Method of Slices (Membrane vs. Flow Net)\n",
        "# For cohesive soils, we can implement a simplified method of slices approach.\n",
        "# Reference Fig. 10.37 from the textbook. We'll build two functions:\n",
        "#   - One using a \"membrane\" interpretation of groundwater\n",
        "#   - One using a \"flow net\" approach with each slice having distinct pore pressures.\n",
        "\n",
        "import numpy as np\n",
        "\n",
        "def fos_slices_membrane(n_slices, slope_height, c, phi_deg, gamma_soil):\n",
        "    \"\"\"\n",
        "    Very simplified demonstration of a 'membrane solution' approach.\n",
        "    n_slices     : number of slices\n",
        "    slope_height : total slope height (m)\n",
        "    c            : cohesion (kN/m^2)\n",
        "    phi_deg      : friction angle (degrees)\n",
        "    gamma_soil   : soil unit weight (kN/m^3)\n",
        "    Returns an approximate factor of safety.\n",
        "    \"\"\"\n",
        "    phi = np.radians(phi_deg)\n",
        "\n",
        "    # For demonstration: assume each slice is of equal width\n",
        "    slice_width = 2.0  # arbitrary\n",
        "    slice_heights = np.linspace(1, slope_height, n_slices)\n",
        "\n",
        "    R_total = 0.0\n",
        "    D_total = 0.0\n",
        "\n",
        "    for h_slice in slice_heights:\n",
        "        # Weight of slice (assuming some unit thickness)\n",
        "        W = gamma_soil * slice_width * h_slice\n",
        "\n",
        "        # Simplistic normal force\n",
        "        N = W * np.cos(phi)\n",
        "\n",
        "        # Shear resistance from cohesion plus friction\n",
        "        S_res = c * slice_width + N * np.tan(phi)\n",
        "\n",
        "        # Driving force\n",
        "        D = W * np.sin(phi)\n",
        "\n",
        "        R_total += S_res\n",
        "        D_total += D\n",
        "\n",
        "    if D_total == 0:\n",
        "        return np.inf\n",
        "    return R_total / D_total\n",
        "\n",
        "\n",
        "def fos_slices_flownet(n_slices, slope_height, c, phi_deg, gamma_soil):\n",
        "    \"\"\"\n",
        "    Simplified demonstration of a 'flow net solution' approach.\n",
        "    We'll add random or parametric pore water pressure for each slice.\n",
        "    \"\"\"\n",
        "    phi = np.radians(phi_deg)\n",
        "    slice_width = 2.0\n",
        "    slice_heights = np.linspace(1, slope_height, n_slices)\n",
        "\n",
        "    R_total = 0.0\n",
        "    D_total = 0.0\n",
        "\n",
        "    rng = np.random.default_rng(seed=42)  # reproducible random values\n",
        "\n",
        "    for h_slice in slice_heights:\n",
        "        W = gamma_soil * slice_width * h_slice\n",
        "\n",
        "        # Assign a random pore pressure ratio in [0, 0.3]\n",
        "        ru = rng.random() * 0.3\n",
        "\n",
        "        # Effective normal force\n",
        "        N_eff = (W * np.cos(phi)) * (1 - ru)\n",
        "\n",
        "        # Shear resistance\n",
        "        S_res = c * slice_width + N_eff * np.tan(phi)\n",
        "\n",
        "        # Driving force\n",
        "        D = W * np.sin(phi)\n",
        "\n",
        "        R_total += S_res\n",
        "        D_total += D\n",
        "\n",
        "    if D_total == 0:\n",
        "        return np.inf\n",
        "    return R_total / D_total\n",
        "\n",
        "# Demonstration usage:\n",
        "fos_membrane_demo = fos_slices_membrane(n_slices=5, slope_height=10.0, c=10.0, phi_deg=25.0, gamma_soil=18.0)\n",
        "fos_flownet_demo = fos_slices_flownet(n_slices=5, slope_height=10.0, c=10.0, phi_deg=25.0, gamma_soil=18.0)\n",
        "\n",
        "print(f\"Membrane solution FOS (example): {fos_membrane_demo:.3f}\")\n",
        "print(f\"Flow net solution FOS (example): {fos_flownet_demo:.3f}\")\n"
      ]
    },
    {
      "cell_type": "markdown",
      "metadata": {
        "id": "nz00YOwv7Lux"
      },
      "source": [
        "## Part 2 Instructions\n",
        "\n",
        "1. Analyze the functions `fos_slices_membrane` and `fos_slices_flownet`:\n",
        "   - How are they currently summing the forces among slices?\n",
        "   - Where can you incorporate real data or a more rigorous approach (e.g., geometry of the slip surface, slice base angles, etc.)?\n",
        "\n",
        "2. Revise one or both functions to reflect your course’s recommended method for computing the factor of safety.\n",
        "   - You might need to include more realistic geometry or moment equilibrium.  \n",
        "   - Alternatively, you can keep it simple but justify your assumptions.\n",
        "\n",
        "3. Document how your approach corresponds to the textbook’s Figures 10.37 and 10.38 (membrane vs. flow net solutions, interacting blocks, etc.).\n"
      ]
    },
    {
      "cell_type": "code",
      "execution_count": null,
      "metadata": {
        "id": "r6ifssEF7Lux"
      },
      "outputs": [],
      "source": [
        "# Part 3: Sensitivity Analysis & Visualization\n",
        "# Let's conduct a short sensitivity analysis by varying slope angle or pore pressure ratio,\n",
        "# compute factor of safety, and then plot the results.\n",
        "\n",
        "import numpy as np\n",
        "import matplotlib.pyplot as plt\n",
        "\n",
        "def plane_sliding_sensitivity(phi_deg, slope_angles):\n",
        "    \"\"\"\n",
        "    Returns a list of factor of safety values for an array of slope angles\n",
        "    using the plane_sliding_fos function from Part 1.\n",
        "    \"\"\"\n",
        "    fos_list = []\n",
        "    for beta in slope_angles:\n",
        "        fos_val = plane_sliding_fos(phi_deg, beta)\n",
        "        fos_list.append(fos_val)\n",
        "    return fos_list\n",
        "\n",
        "slope_angles_array = range(10, 46, 5)  # from 10 to 45 in steps of 5\n",
        "phi_demo = 30.0\n",
        "fos_vs_beta = plane_sliding_sensitivity(phi_demo, slope_angles_array)\n",
        "\n",
        "plt.figure(figsize=(6,4))\n",
        "plt.plot(list(slope_angles_array), fos_vs_beta, 'o-', label=\"Plane Sliding FOS\")\n",
        "plt.axhline(y=1.0, color='r', linestyle='--', label=\"FOS = 1.0\")\n",
        "plt.xlabel(\"Slope Angle (degrees)\")\n",
        "plt.ylabel(\"Factor of Safety\")\n",
        "plt.title(f\"Plane Sliding FOS vs. Slope Angle (phi={phi_demo}°)\")\n",
        "plt.grid(True)\n",
        "plt.legend()\n",
        "plt.show()\n"
      ]
    },
    {
      "cell_type": "markdown",
      "metadata": {
        "id": "Qg36F6cE7Lux"
      },
      "source": [
        "## Part 3 Instructions\n",
        "\n",
        "1. Experiment with the above sensitivity analysis:\n",
        "   - Vary angles, friction angles, cohesion, or random pore pressure parameters.\n",
        "   - Compare how quickly your slope’s FOS drops below 1.0.\n",
        "\n",
        "2. Visualize your final results:\n",
        "   - Possibly create multiple subplots for different conditions (e.g., dry vs. saturated slope).\n",
        "   - Show how the FOS changes with each parameter and discuss your findings.\n",
        "\n",
        "3. Write a brief conclusion in another Markdown cell:\n",
        "   - Summarize the main insights from your numerical experiments.\n",
        "   - Reflect on how well these simplified models approximate real slope behavior.\n",
        "\n",
        "### Submission Notes\n",
        "\n",
        "- Upload your final notebook to the class repository.\n",
        "- Ensure that each part (plane sliding, method of slices, and sensitivity analysis) is fully documented.\n",
        "- Discuss any real-world complexities (non-homogeneous soils, layered strata, seismic loads, etc.) that are simplified here.\n",
        "- Reference the relevant textbook pages (Figs. 10.31–10.38) wherever applicable.\n",
        "\n",
        "End of Assignment\n"
      ]
    }
  ],
  "metadata": {
    "language_info": {
      "name": "python"
    },
    "colab": {
      "provenance": [],
      "include_colab_link": true
    },
    "kernelspec": {
      "name": "python3",
      "display_name": "Python 3"
    }
  },
  "nbformat": 4,
  "nbformat_minor": 0
}