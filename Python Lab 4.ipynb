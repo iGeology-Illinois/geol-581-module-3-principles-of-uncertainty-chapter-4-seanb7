{
  "nbformat": 4,
  "nbformat_minor": 0,
  "metadata": {
    "colab": {
      "provenance": [],
      "authorship_tag": "ABX9TyNzl1jsQhT/X3hWfldpCrON",
      "include_colab_link": true
    },
    "kernelspec": {
      "name": "python3",
      "display_name": "Python 3"
    },
    "language_info": {
      "name": "python"
    }
  },
  "cells": [
    {
      "cell_type": "markdown",
      "metadata": {
        "id": "view-in-github",
        "colab_type": "text"
      },
      "source": [
        "<a href=\"https://colab.research.google.com/github/iGeology-Illinois/geol-581-module-3-principles-of-uncertainty-chapter-4-seanb7/blob/main/Python%20Lab%204.ipynb\" target=\"_parent\"><img src=\"https://colab.research.google.com/assets/colab-badge.svg\" alt=\"Open In Colab\"/></a>"
      ]
    },
    {
      "cell_type": "code",
      "source": [
        "import pandas as pd\n",
        "from sqlalchemy import create_engine\n",
        "\n",
        "# 1) Create an engine and connect to 'cpt_data.db' (it will be created if not existing)\n",
        "engine = create_engine('sqlite:///cpt_data.db')\n",
        "\n",
        "# 2) Read Excel file into a DataFrame\n",
        "df = pd.read_excel('24-61-27761_CP24-COOK-01-BSC.XLS', sheet_name='Sheet1')\n",
        "\n",
        "# Example: rename columns or filter out header rows, if needed\n",
        "# Suppose we skip the first 39 rows with metadata, and then read the main data\n",
        "df_main = pd.read_excel('24-61-27761_CP24-COOK-01-BSC.XLS', sheet_name='Sheet1', skiprows=39)\n",
        "df_main.columns = ['Depth_m', 'Depth_ft', 'qc_tsf', 'qt_tsf', 'fs_tsf', 'u_ft', 'Rf_pct']\n",
        "\n",
        "# 3) Write to SQL table\n",
        "df_main.to_sql('cpt_cook_01', con=engine, if_exists='replace', index=False)\n",
        "\n",
        "# 4) Run a SELECT query to see results\n",
        "query = \"SELECT * FROM cpt_cook_01 LIMIT 5;\"\n",
        "result = pd.read_sql(query, con=engine)\n",
        "print(result)"
      ],
      "metadata": {
        "id": "LbbrCLphUgJg",
        "outputId": "01a9d6b3-cd7e-4806-c4f6-7028d63f3cb1",
        "colab": {
          "base_uri": "https://localhost:8080/",
          "height": 391
        }
      },
      "execution_count": 71,
      "outputs": [
        {
          "output_type": "error",
          "ename": "ValueError",
          "evalue": "Length mismatch: Expected axis has 8 elements, new values have 7 elements",
          "traceback": [
            "\u001b[0;31m---------------------------------------------------------------------------\u001b[0m",
            "\u001b[0;31mValueError\u001b[0m                                Traceback (most recent call last)",
            "\u001b[0;32m<ipython-input-71-48808e10a5db>\u001b[0m in \u001b[0;36m<cell line: 0>\u001b[0;34m()\u001b[0m\n\u001b[1;32m     11\u001b[0m \u001b[0;31m# Suppose we skip the first 39 rows with metadata, and then read the main data\u001b[0m\u001b[0;34m\u001b[0m\u001b[0;34m\u001b[0m\u001b[0m\n\u001b[1;32m     12\u001b[0m \u001b[0mdf_main\u001b[0m \u001b[0;34m=\u001b[0m \u001b[0mpd\u001b[0m\u001b[0;34m.\u001b[0m\u001b[0mread_excel\u001b[0m\u001b[0;34m(\u001b[0m\u001b[0;34m'24-61-27761_CP24-COOK-01-BSC.XLS'\u001b[0m\u001b[0;34m,\u001b[0m \u001b[0msheet_name\u001b[0m\u001b[0;34m=\u001b[0m\u001b[0;34m'Sheet1'\u001b[0m\u001b[0;34m,\u001b[0m \u001b[0mskiprows\u001b[0m\u001b[0;34m=\u001b[0m\u001b[0;36m39\u001b[0m\u001b[0;34m)\u001b[0m\u001b[0;34m\u001b[0m\u001b[0;34m\u001b[0m\u001b[0m\n\u001b[0;32m---> 13\u001b[0;31m \u001b[0mdf_main\u001b[0m\u001b[0;34m.\u001b[0m\u001b[0mcolumns\u001b[0m \u001b[0;34m=\u001b[0m \u001b[0;34m[\u001b[0m\u001b[0;34m'Depth_m'\u001b[0m\u001b[0;34m,\u001b[0m \u001b[0;34m'Depth_ft'\u001b[0m\u001b[0;34m,\u001b[0m \u001b[0;34m'qc_tsf'\u001b[0m\u001b[0;34m,\u001b[0m \u001b[0;34m'qt_tsf'\u001b[0m\u001b[0;34m,\u001b[0m \u001b[0;34m'fs_tsf'\u001b[0m\u001b[0;34m,\u001b[0m \u001b[0;34m'u_ft'\u001b[0m\u001b[0;34m,\u001b[0m \u001b[0;34m'Rf_pct'\u001b[0m\u001b[0;34m]\u001b[0m\u001b[0;34m\u001b[0m\u001b[0;34m\u001b[0m\u001b[0m\n\u001b[0m\u001b[1;32m     14\u001b[0m \u001b[0;34m\u001b[0m\u001b[0m\n\u001b[1;32m     15\u001b[0m \u001b[0;31m# 3) Write to SQL table\u001b[0m\u001b[0;34m\u001b[0m\u001b[0;34m\u001b[0m\u001b[0m\n",
            "\u001b[0;32m/usr/local/lib/python3.11/dist-packages/pandas/core/generic.py\u001b[0m in \u001b[0;36m__setattr__\u001b[0;34m(self, name, value)\u001b[0m\n\u001b[1;32m   6311\u001b[0m         \u001b[0;32mtry\u001b[0m\u001b[0;34m:\u001b[0m\u001b[0;34m\u001b[0m\u001b[0;34m\u001b[0m\u001b[0m\n\u001b[1;32m   6312\u001b[0m             \u001b[0mobject\u001b[0m\u001b[0;34m.\u001b[0m\u001b[0m__getattribute__\u001b[0m\u001b[0;34m(\u001b[0m\u001b[0mself\u001b[0m\u001b[0;34m,\u001b[0m \u001b[0mname\u001b[0m\u001b[0;34m)\u001b[0m\u001b[0;34m\u001b[0m\u001b[0;34m\u001b[0m\u001b[0m\n\u001b[0;32m-> 6313\u001b[0;31m             \u001b[0;32mreturn\u001b[0m \u001b[0mobject\u001b[0m\u001b[0;34m.\u001b[0m\u001b[0m__setattr__\u001b[0m\u001b[0;34m(\u001b[0m\u001b[0mself\u001b[0m\u001b[0;34m,\u001b[0m \u001b[0mname\u001b[0m\u001b[0;34m,\u001b[0m \u001b[0mvalue\u001b[0m\u001b[0;34m)\u001b[0m\u001b[0;34m\u001b[0m\u001b[0;34m\u001b[0m\u001b[0m\n\u001b[0m\u001b[1;32m   6314\u001b[0m         \u001b[0;32mexcept\u001b[0m \u001b[0mAttributeError\u001b[0m\u001b[0;34m:\u001b[0m\u001b[0;34m\u001b[0m\u001b[0;34m\u001b[0m\u001b[0m\n\u001b[1;32m   6315\u001b[0m             \u001b[0;32mpass\u001b[0m\u001b[0;34m\u001b[0m\u001b[0;34m\u001b[0m\u001b[0m\n",
            "\u001b[0;32mproperties.pyx\u001b[0m in \u001b[0;36mpandas._libs.properties.AxisProperty.__set__\u001b[0;34m()\u001b[0m\n",
            "\u001b[0;32m/usr/local/lib/python3.11/dist-packages/pandas/core/generic.py\u001b[0m in \u001b[0;36m_set_axis\u001b[0;34m(self, axis, labels)\u001b[0m\n\u001b[1;32m    812\u001b[0m         \"\"\"\n\u001b[1;32m    813\u001b[0m         \u001b[0mlabels\u001b[0m \u001b[0;34m=\u001b[0m \u001b[0mensure_index\u001b[0m\u001b[0;34m(\u001b[0m\u001b[0mlabels\u001b[0m\u001b[0;34m)\u001b[0m\u001b[0;34m\u001b[0m\u001b[0;34m\u001b[0m\u001b[0m\n\u001b[0;32m--> 814\u001b[0;31m         \u001b[0mself\u001b[0m\u001b[0;34m.\u001b[0m\u001b[0m_mgr\u001b[0m\u001b[0;34m.\u001b[0m\u001b[0mset_axis\u001b[0m\u001b[0;34m(\u001b[0m\u001b[0maxis\u001b[0m\u001b[0;34m,\u001b[0m \u001b[0mlabels\u001b[0m\u001b[0;34m)\u001b[0m\u001b[0;34m\u001b[0m\u001b[0;34m\u001b[0m\u001b[0m\n\u001b[0m\u001b[1;32m    815\u001b[0m         \u001b[0mself\u001b[0m\u001b[0;34m.\u001b[0m\u001b[0m_clear_item_cache\u001b[0m\u001b[0;34m(\u001b[0m\u001b[0;34m)\u001b[0m\u001b[0;34m\u001b[0m\u001b[0;34m\u001b[0m\u001b[0m\n\u001b[1;32m    816\u001b[0m \u001b[0;34m\u001b[0m\u001b[0m\n",
            "\u001b[0;32m/usr/local/lib/python3.11/dist-packages/pandas/core/internals/managers.py\u001b[0m in \u001b[0;36mset_axis\u001b[0;34m(self, axis, new_labels)\u001b[0m\n\u001b[1;32m    236\u001b[0m     \u001b[0;32mdef\u001b[0m \u001b[0mset_axis\u001b[0m\u001b[0;34m(\u001b[0m\u001b[0mself\u001b[0m\u001b[0;34m,\u001b[0m \u001b[0maxis\u001b[0m\u001b[0;34m:\u001b[0m \u001b[0mAxisInt\u001b[0m\u001b[0;34m,\u001b[0m \u001b[0mnew_labels\u001b[0m\u001b[0;34m:\u001b[0m \u001b[0mIndex\u001b[0m\u001b[0;34m)\u001b[0m \u001b[0;34m->\u001b[0m \u001b[0;32mNone\u001b[0m\u001b[0;34m:\u001b[0m\u001b[0;34m\u001b[0m\u001b[0;34m\u001b[0m\u001b[0m\n\u001b[1;32m    237\u001b[0m         \u001b[0;31m# Caller is responsible for ensuring we have an Index object.\u001b[0m\u001b[0;34m\u001b[0m\u001b[0;34m\u001b[0m\u001b[0m\n\u001b[0;32m--> 238\u001b[0;31m         \u001b[0mself\u001b[0m\u001b[0;34m.\u001b[0m\u001b[0m_validate_set_axis\u001b[0m\u001b[0;34m(\u001b[0m\u001b[0maxis\u001b[0m\u001b[0;34m,\u001b[0m \u001b[0mnew_labels\u001b[0m\u001b[0;34m)\u001b[0m\u001b[0;34m\u001b[0m\u001b[0;34m\u001b[0m\u001b[0m\n\u001b[0m\u001b[1;32m    239\u001b[0m         \u001b[0mself\u001b[0m\u001b[0;34m.\u001b[0m\u001b[0maxes\u001b[0m\u001b[0;34m[\u001b[0m\u001b[0maxis\u001b[0m\u001b[0;34m]\u001b[0m \u001b[0;34m=\u001b[0m \u001b[0mnew_labels\u001b[0m\u001b[0;34m\u001b[0m\u001b[0;34m\u001b[0m\u001b[0m\n\u001b[1;32m    240\u001b[0m \u001b[0;34m\u001b[0m\u001b[0m\n",
            "\u001b[0;32m/usr/local/lib/python3.11/dist-packages/pandas/core/internals/base.py\u001b[0m in \u001b[0;36m_validate_set_axis\u001b[0;34m(self, axis, new_labels)\u001b[0m\n\u001b[1;32m     96\u001b[0m \u001b[0;34m\u001b[0m\u001b[0m\n\u001b[1;32m     97\u001b[0m         \u001b[0;32melif\u001b[0m \u001b[0mnew_len\u001b[0m \u001b[0;34m!=\u001b[0m \u001b[0mold_len\u001b[0m\u001b[0;34m:\u001b[0m\u001b[0;34m\u001b[0m\u001b[0;34m\u001b[0m\u001b[0m\n\u001b[0;32m---> 98\u001b[0;31m             raise ValueError(\n\u001b[0m\u001b[1;32m     99\u001b[0m                 \u001b[0;34mf\"Length mismatch: Expected axis has {old_len} elements, new \"\u001b[0m\u001b[0;34m\u001b[0m\u001b[0;34m\u001b[0m\u001b[0m\n\u001b[1;32m    100\u001b[0m                 \u001b[0;34mf\"values have {new_len} elements\"\u001b[0m\u001b[0;34m\u001b[0m\u001b[0;34m\u001b[0m\u001b[0m\n",
            "\u001b[0;31mValueError\u001b[0m: Length mismatch: Expected axis has 8 elements, new values have 7 elements"
          ]
        }
      ]
    },
    {
      "cell_type": "code",
      "source": [
        "# Create new SQLite Database\n",
        "import sqlite3\n",
        "\n",
        "# Connect to SQLite database (or create it if it doesn't exist)\n",
        "conn = sqlite3.connect('Lab 4 SIte Investigation.db')\n",
        "\n",
        "# Create a cursor object to interact with the database\n",
        "cursor = conn.cursor()\n",
        "\n",
        "# Create a new table named 'users'\n",
        "cursor.execute('''CREATE TABLE IF NOT EXISTS CPT_data (Layer INTEGER, Depth REAL, Tip_Resistance_QC REAL, Tip_Resistance_QT Sleeve_Friction REAL, Pore_Pressure REAL, Friction_Ratio REAL)''')\n",
        "\n",
        "# Commit the changes and close the connection\n",
        "conn.commit()\n",
        "#The conn.commit() and conn.close() were called twice remove extra calls\n",
        "#conn.commit()\n",
        "conn.close()\n",
        "\n",
        "print(\"Database and table created successfully.\")\n"
      ],
      "metadata": {
        "id": "3JbE9MFGPok6",
        "outputId": "32c37b09-01c0-40f1-f879-b07cdf0e1591",
        "colab": {
          "base_uri": "https://localhost:8080/"
        }
      },
      "execution_count": null,
      "outputs": [
        {
          "output_type": "stream",
          "name": "stdout",
          "text": [
            "Database and table created successfully.\n"
          ]
        }
      ]
    },
    {
      "cell_type": "code",
      "source": [
        "#Import CPT/SCPTu Data from W.Roosevelt & S Clark site To SQLite Database\n",
        "import pandas as pd\n",
        "from sqlalchemy import create_engine\n",
        "\n",
        "# Construct the full file paths\n",
        "file_names = [\n",
        "    '24-61-27761_CP24-COOK-01-BSC.XLS'\n",
        "    '24-61-27761_CP24-COOK-02-BSC.XLS',\n",
        "    '24-61-27761_CP24-COOK-03-BSC.XLS',\n",
        "    '24-61-27761_CP24-COOK-04-BSC.XLS',\n",
        "    '24-61-27761_CP24-COOK-06-BSC.XLS',\n",
        "    '24-61-27761_CP24-COOK-07-BSC.XLS',\n",
        "    '24-61-27761_CP24-COOK-02-OFF01-BSC.XLS',\n",
        "    '24-61-27761_CP24-COOK-02-OFF02-BSC.XLS',\n",
        "    '24-61-27761_CP24-COOK-06-OFF01-BSC.XLS'\n",
        "]\n",
        "\n",
        "# Connect to SQLite database\n",
        "conn = sqlite3.connect('Lab 4 Site Investigaton.db')\n",
        "cursor = conn.cursor()\n",
        "\n",
        "# Create a table (adjust the schema as needed)\n",
        "df.to_sql('W. Roosevelt & S. Clark', conn, if_exists='replace', index=False)\n",
        "\n",
        "# Commit and close the connection\n",
        "conn.commit()\n",
        "conn.close()\n",
        "\n",
        "print(\"Data imported successfully!\")"
      ],
      "metadata": {
        "colab": {
          "base_uri": "https://localhost:8080/"
        },
        "id": "DUv5b1VE1-Zi",
        "outputId": "1f0f4aea-add9-467e-c2c9-1fe51cecda14"
      },
      "execution_count": null,
      "outputs": [
        {
          "output_type": "stream",
          "name": "stdout",
          "text": [
            "Data imported successfully!\n"
          ]
        }
      ]
    },
    {
      "cell_type": "code",
      "source": [],
      "metadata": {
        "id": "7HEBPc7iSHUY"
      },
      "execution_count": null,
      "outputs": []
    },
    {
      "cell_type": "code",
      "source": [
        "# Extract data from SQLite database\n",
        "import sqlite3\n",
        "fetchall_path = 'Lab 4 Site Investigaton.db'\n",
        "table_name = 'W. Roosevelt & S. Clark'\n",
        "# Extract data from SQLite database\n",
        "import sqlite3\n",
        "import pandas as pd\n",
        "\n",
        "db_path = 'Lab 4 Site Investigaton.db'  # Path to your SQLite database file\n",
        "table_name = 'W. Roosevelt & S. Clark'\n",
        "\n",
        "# Establish a connection to the SQLite database\n",
        "conn = sqlite3.connect(db_path)\n",
        "\n",
        "# Execute the query and read data into a DataFrame\n",
        "df = pd.read_sql_query(f\"SELECT * FROM [{table_name}]\", conn)\n",
        "\n",
        "# Close the connection\n",
        "conn.close()\n",
        "\n",
        "df.head()\n",
        "\n",
        "#Plot table\n",
        "import plotly.express as px\n",
        "import plotly.graph_objects as go\n",
        "import pandas as pd\n",
        "print(df.columns)"
      ],
      "metadata": {
        "id": "TV_ERD0CN_EA",
        "outputId": "44bd0a23-2861-4ab5-e2da-1a09e3016dec",
        "colab": {
          "base_uri": "https://localhost:8080/"
        }
      },
      "execution_count": null,
      "outputs": [
        {
          "output_type": "stream",
          "name": "stdout",
          "text": [
            "Index(['Unnamed: 0', 'ConeTec Calculated CPT Parameters', 'Unnamed: 2',\n",
            "       'Unnamed: 3', 'Unnamed: 4', 'Unnamed: 5', 'Unnamed: 6', 'Unnamed: 7'],\n",
            "      dtype='object')\n"
          ]
        }
      ]
    },
    {
      "cell_type": "code",
      "source": [
        "# Extract data from SQLite database\n",
        "import sqlite3\n",
        "\n",
        "def export_sqlite_to_csv(db_path, table_name, csv_path):\n",
        "    # Connect to the SQLite database\n",
        "    conn = sqlite3.connect(db_path)\n",
        "    cursor = conn.cursor()\n",
        "\n",
        "    # Execute a query to fetch all data from the specified table\n",
        "    # Enclose the table name in square brackets to escape special characters\n",
        "    cursor.execute(f\"SELECT * FROM [{table_name}]\")\n",
        "    rows = cursor.fetchall()\n",
        "\n",
        "    # Get column names from the table\n",
        "    column_names = [description[0] for description in cursor.description]\n",
        "\n",
        "    # Write data to a CSV file\n",
        "    with open(csv_path, 'w', newline='') as csv_file:\n",
        "        writer = csv.writer(csv_file)\n",
        "        writer.writerow(column_names)  # Write the header\n",
        "        writer.writerows(rows)  # Write the data\n",
        "\n",
        "    # Close the database connection\n",
        "    conn.close()\n",
        "\n",
        "# Example usage\n",
        "db_path = 'Lab 4 Site Investigaton.db'\n",
        "table_name = 'W. Roosevelt & S. Clark'\n",
        "csv_path = 'W. Roosevelt & S. Clark Site Invetigation.csv'\n",
        "export_sqlite_to_csv(db_path, table_name, csv_path)\n",
        "print(f\"Data from '{table_name}' table exported to '{csv_path}' successfully.\")\n",
        "plotly_path = 'W. Roosevelt & S. Clark Site Invetigation.csv'"
      ],
      "metadata": {
        "id": "P9nt71elCPdb",
        "outputId": "d602a472-08ef-4c96-a714-17680e3082e7",
        "colab": {
          "base_uri": "https://localhost:8080/"
        }
      },
      "execution_count": null,
      "outputs": [
        {
          "output_type": "stream",
          "name": "stdout",
          "text": [
            "Data from 'W. Roosevelt & S. Clark' table exported to 'W. Roosevelt & S. Clark Site Invetigation.csv' successfully.\n"
          ]
        }
      ]
    },
    {
      "cell_type": "code",
      "source": [],
      "metadata": {
        "id": "DkCPdNPuFrjm"
      },
      "execution_count": null,
      "outputs": []
    }
  ]
}