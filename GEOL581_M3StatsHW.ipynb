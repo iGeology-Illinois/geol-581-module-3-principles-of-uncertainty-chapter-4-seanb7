{
  "cells": [
    {
      "cell_type": "markdown",
      "metadata": {
        "id": "fmEtSIgxqylJ"
      },
      "source": [
        "# Question 4.1\n",
        "\n",
        "A rock slope is to be cut as part of a road construction project. However, there is a risk that the slope could slide along the bedding planes into the excavation pit. In order to carry out a stability analysis it is necessary to estimate the angle of friction along the bedding planes. An initial assessment on the mean value of the friction angle can be obtained from the spectrum of possible manifestations of the friction angle. It cannot be smaller than the base friction angle, i.e. the friction angle that would result on the sawn, smooth surface of a specimen. The base friction angle for the greywackes that make up the slope is about 20°. The maximum possible friction angle can be estimated by back-calculating past failure cases. So far, no friction angle exceeding 35° has been back-calculated. What is the probability that the friction angle is smaller than 25°? Since no further information is available, the PDF of the friction angle can be assumed to be uniform."
      ]
    },
    {
      "cell_type": "code",
      "execution_count": null,
      "metadata": {
        "colab": {
          "base_uri": "https://localhost:8080/"
        },
        "id": "hQkpUZ_6qylL",
        "outputId": "5ac3ccd2-7653-4e04-b69a-480f290aee02"
      },
      "outputs": [
        {
          "output_type": "stream",
          "name": "stdout",
          "text": [
            "The probability that the friction angle is below 25 degrees is: 0.3333333333333333\n"
          ]
        }
      ],
      "source": [
        "# In this cell, you can begin by importing the libraries you need and setting up a simple\n",
        "# calculation to handle the uniform distribution between 20 and 35 degrees.\n",
        "import numpy as np\n",
        "from scipy import stats\n",
        "\n",
        "# HINT:\n",
        "# 1. You can model friction angles as U(20, 35).\n",
        "# 2. Calculate the probability that the friction angle is below 25 degrees.\n",
        "# 3. Confirm your result matches the analytical approach: (25 - 20) / (35 - 20).\n",
        "\n",
        "# You might start coding something like this:\n",
        "# lower_bound = 20\n",
        "# upper_bound = 35\n",
        "# desired_angle = 25\n",
        "#######\n",
        "#######\n",
        "# Sample Data: friction angles in degress\n",
        "friction_angles = np.array ([20, 25, 30])\n",
        "\n",
        "# Calculate the probability that the friction angle is below 25 degrees\n",
        "probability_below_25 = np.mean(friction_angles < 25)\n",
        "\n",
        "print(f\"The probability that the friction angle is below 25 degrees is: {probability_below_25}\")"
      ]
    },
    {
      "cell_type": "markdown",
      "metadata": {
        "id": "PJZtXu73qylL"
      },
      "source": [
        "# Question 4.2\n",
        "\n",
        "A mobile point load tester can be used to determine a strength index \\(I_p\\) [MPa] for rock samples, which are correlated with the uniaxial compressive strength. 25 strength values \\(I_p\\) were determined for a sandstone sequence:\n",
        "\n",
        "4.4; 4.2; 4.5; 4.0; 4.3; 4.1; 3.9; 4.2; 4.5; 3.8; 4.0; 4.3; 4.2; 4.2;\n",
        "4.1; 4.5; 4.2; 4.3; 4.1; 3.7; 4.0; 4.5; 4.6; 4.3; 4.1\n",
        "(n = 25)\n",
        "\n",
        "In the neighboring mapping area, another 10 strength coefficients for sandstone were determined:\n",
        "\n",
        "3.7; 4.5; 4.2; 4.4; 4.3; 4.0; 3.5; 3.9; 4.3; 4.3\n",
        "(n = 10)\n",
        "\n",
        "Do both samples come from the same population?"
      ]
    },
    {
      "cell_type": "code",
      "execution_count": null,
      "metadata": {
        "colab": {
          "base_uri": "https://localhost:8080/"
        },
        "id": "-tpOtGzlqylL",
        "outputId": "a5169d84-6490-4a6c-e4ef-487562eeedee"
      },
      "outputs": [
        {
          "output_type": "stream",
          "name": "stdout",
          "text": [
            "T-Statistic: 0.9296888097975631\n",
            "P-Value: 0.35928348941549637\n",
            "Fail to reject the null hypothesis: There is no significant difference between the two groups.\n"
          ]
        }
      ],
      "source": [
        "# In this cell, import the necessary libraries for statistical testing.\n",
        "# A typical approach is to use scipy.stats to perform a t-test or similar.\n",
        "import numpy as np\n",
        "from scipy import stats\n",
        "\n",
        "# HINT:\n",
        "# 1. Store each sample in a NumPy array.\n",
        "# 2. Decide on an appropriate test (e.g., an unpaired two-sample t-test).\n",
        "# 3. Check assumptions (normality, variance).\n",
        "# 4. Use stats.ttest_ind(...) or a non-parametric alternative if needed.\n",
        "\n",
        "# Example starting code:\n",
        "# sample1 = np.array([4.4, 4.2, 4.5, ... ])  # 25 values\n",
        "# sample2 = np.array([3.7, 4.5, 4.2, ... ])  # 10 values\n",
        "########\n",
        "########\n",
        "# Sample Data\n",
        "sample1 = np.array([4.4, 4.2, 4.5, 4.0, 4.3, 4.1, 3.9, 4.2, 4.5, 3.8, 4.0, 4.3, 4.2, 4.2, 4.1, 4.5, 4.2, 4.3, 4.1, 3.7, 4.0, 4.5, 4.6, 4.3, 4.1])\n",
        "sample2 = np.array([3.7, 4.5, 4.2, 4.4, 4.3, 4.0, 3.5, 3.9, 4.3, 4.3])\n",
        "\n",
        "#Perform T-Test\n",
        "t_statistic, p_value = stats.ttest_ind(sample1, sample2)\n",
        "\n",
        "#Print Results\n",
        "print(f\"T-Statistic: {t_statistic}\")\n",
        "print(f\"P-Value: {p_value}\")\n",
        "\n",
        "# Interpretation of Results\n",
        "alpha = 0.05\n",
        "if p_value < alpha:\n",
        "    print(\"Reject the null hypothesis: There is a significant difference between the two groups.\")\n",
        "else:\n",
        "    print(\"Fail to reject the null hypothesis: There is no significant difference between the two groups.\")\n"
      ]
    },
    {
      "cell_type": "markdown",
      "source": [
        "Using a statistical T-test we can deteremine that both samples come from the same population."
      ],
      "metadata": {
        "id": "wzTOlqmxxst-"
      }
    },
    {
      "cell_type": "markdown",
      "source": [
        "# Question 4.3\n",
        "\n",
        "A construction pit of 10,000 m³ is to be excavated. The subground consists of Pleistocene sediments of which it is known that erratic blocks (boulders) occur, having an average diameter of 1.5 m. Experience shows that about 1% by volume of the excavated material in this region consists of boulders. Since special equipment is needed to extract them and delays in construction are to be expected, the contractor is interested in the probability of having to extract more boulders than experience suggests. He would also like to know what the probability is that more than ten boulders will be found."
      ],
      "metadata": {
        "id": "lc5026J6ymOg"
      }
    },
    {
      "cell_type": "code",
      "execution_count": 17,
      "metadata": {
        "colab": {
          "base_uri": "https://localhost:8080/"
        },
        "id": "P0yEd_2lqylM",
        "outputId": "cf1c95db-80c6-46d8-bef8-86f3109c58c8"
      },
      "outputs": [
        {
          "output_type": "stream",
          "name": "stdout",
          "text": [
            "Volume of One Boulder: 1.7671458676442584\n",
            "Poisson probability: 0.9999999999999949\n",
            "Expected Number of Boulders: 100.0\n",
            "Probability of more boulders than expected: 0.49583106314239\n",
            "Probability of more than ten boulders: 0.9999999999999702\n"
          ]
        }
      ],
      "source": [
        "# In this cell, you can set up a binomial or Poisson approach (depending on your modeling assumptions).\n",
        "import numpy as np\n",
        "from scipy import stats\n",
        "\n",
        "# HINT:\n",
        "# 1. Estimate the expected number of boulders as 1% of the total volume or total 'units' of excavation.\n",
        "# 2. Use a binomial model with parameters n (number of trials) and p = 0.01, or\n",
        "#    reason about the mean number of boulders and approximate with a Poisson distribution.\n",
        "# 3. Compute probabilities for \"more boulders than expected\" and for \"more than ten boulders.\"\n",
        "\n",
        "# Example:\n",
        "# n = 10000  # or adjusted for how you're counting possible 'boulder events'\n",
        "# p = 0.01\n",
        "##############\n",
        "\n",
        "######\n",
        "# Parameters of Extractions\n",
        "n = 10000\n",
        "p = 0.01\n",
        "k = 10\n",
        "V = 0.75\n",
        "\n",
        "# Calculate Volume of One Boulder\n",
        "volume_boulder = (4/3) * np.pi * V**3\n",
        "print(f\"Volume of One Boulder: {volume_boulder}\")\n",
        "\n",
        "\n",
        "# Now assign lambda_value\n",
        "lambda_value = (n*p)/volume_boulder\n",
        "\n",
        "# Calculate Poisson probability\n",
        "poisson_probability = 1 - stats.poisson.cdf(k - 1, lambda_value)\n",
        "print(f\"Poisson probability: {poisson_probability}\")\n",
        "\n",
        "# Compute the Expected Number of Boulders\n",
        "expected_boulders = n * p\n",
        "print(f\"Expected Number of Boulders: {expected_boulders}\")\n",
        "\n",
        "# Compute Probabilities for \"More Boulders than Expected\"\n",
        "probability_more_boulders = 1 - stats.poisson.cdf(lambda_value, lambda_value)\n",
        "print(f\"Probability of more boulders than expected: {probability_more_boulders}\")\n",
        "\n",
        "# Compute Probabilities for \"More than Ten Boulders\"\n",
        "probability_more_than_ten = 1 - stats.poisson.cdf(k, lambda_value)\n",
        "print(f\"Probability of more than ten boulders: {probability_more_than_ten}\")\n"
      ]
    },
    {
      "cell_type": "markdown",
      "source": [
        "There is a 99% certainty that the contractor will need to excavated more than 10 boulders than what was originally suggested in the experience."
      ],
      "metadata": {
        "id": "SKseooZiEGCe"
      }
    },
    {
      "cell_type": "markdown",
      "metadata": {
        "id": "UQOy-0UtqylM"
      },
      "source": [
        "# Question 4.4\n",
        "\n",
        "In the Devonian sedimentary bedrock of the Rhenish Massif (Germany), bedding plane distances were measured for four different stratigraphic units. The coefficients of (squared) skewness and kurtosis are given as:\n",
        "\n",
        "\\[\n",
        "(\\beta_1^2, \\beta_2) = (1.82, 4.85);\\quad (1.00, 3.35);\\quad (2.72, 5.71);\\quad (0.52, 2.95).\n",
        "\\]\n",
        "\n",
        "What statistical distribution do the bedding plane distances follow?"
      ]
    },
    {
      "cell_type": "code",
      "execution_count": null,
      "metadata": {
        "colab": {
          "base_uri": "https://localhost:8080/",
          "height": 391
        },
        "id": "pwrUNcYBqylM",
        "outputId": "2f4a117c-0588-45b1-8042-725f92e88463"
      },
      "outputs": [
        {
          "output_type": "stream",
          "name": "stdout",
          "text": [
            "Measured Skewness: [1.82, 1.0, 2.72, 0.52]\n",
            "Measured Kurtosis: [4.85, 3.35, 5.71, 2.95]\n"
          ]
        },
        {
          "output_type": "error",
          "ename": "ValueError",
          "evalue": "skewtest is not valid with less than 8 samples; 4 samples were given.",
          "traceback": [
            "\u001b[0;31m---------------------------------------------------------------------------\u001b[0m",
            "\u001b[0;31mValueError\u001b[0m                                Traceback (most recent call last)",
            "\u001b[0;32m<ipython-input-17-4021c440b87a>\u001b[0m in \u001b[0;36m<cell line: 0>\u001b[0;34m()\u001b[0m\n\u001b[1;32m     20\u001b[0m \u001b[0;34m\u001b[0m\u001b[0m\n\u001b[1;32m     21\u001b[0m \u001b[0;31m# Pearson Bedding Plane Distribution Family\u001b[0m\u001b[0;34m\u001b[0m\u001b[0;34m\u001b[0m\u001b[0m\n\u001b[0;32m---> 22\u001b[0;31m \u001b[0mpearson_skew_test\u001b[0m \u001b[0;34m=\u001b[0m \u001b[0mstats\u001b[0m\u001b[0;34m.\u001b[0m\u001b[0mskewtest\u001b[0m\u001b[0;34m(\u001b[0m\u001b[0mmeasured_skew\u001b[0m\u001b[0;34m)\u001b[0m\u001b[0;34m\u001b[0m\u001b[0;34m\u001b[0m\u001b[0m\n\u001b[0m\u001b[1;32m     23\u001b[0m \u001b[0mpearson_kurt_test\u001b[0m \u001b[0;34m=\u001b[0m \u001b[0mstats\u001b[0m\u001b[0;34m.\u001b[0m\u001b[0mkurtosistest\u001b[0m\u001b[0;34m(\u001b[0m\u001b[0mmeasured_kurt\u001b[0m\u001b[0;34m)\u001b[0m\u001b[0;34m\u001b[0m\u001b[0;34m\u001b[0m\u001b[0m\n\u001b[1;32m     24\u001b[0m \u001b[0mprint\u001b[0m\u001b[0;34m(\u001b[0m\u001b[0;34mf\"Pearson Skew Test: {pearson_skew_test}\"\u001b[0m\u001b[0;34m)\u001b[0m\u001b[0;34m\u001b[0m\u001b[0;34m\u001b[0m\u001b[0m\n",
            "\u001b[0;32m/usr/local/lib/python3.11/dist-packages/scipy/stats/_axis_nan_policy.py\u001b[0m in \u001b[0;36maxis_nan_policy_wrapper\u001b[0;34m(***failed resolving arguments***)\u001b[0m\n\u001b[1;32m    529\u001b[0m                 \u001b[0;32mif\u001b[0m \u001b[0msentinel\u001b[0m\u001b[0;34m:\u001b[0m\u001b[0;34m\u001b[0m\u001b[0;34m\u001b[0m\u001b[0m\n\u001b[1;32m    530\u001b[0m                     \u001b[0msamples\u001b[0m \u001b[0;34m=\u001b[0m \u001b[0m_remove_sentinel\u001b[0m\u001b[0;34m(\u001b[0m\u001b[0msamples\u001b[0m\u001b[0;34m,\u001b[0m \u001b[0mpaired\u001b[0m\u001b[0;34m,\u001b[0m \u001b[0msentinel\u001b[0m\u001b[0;34m)\u001b[0m\u001b[0;34m\u001b[0m\u001b[0;34m\u001b[0m\u001b[0m\n\u001b[0;32m--> 531\u001b[0;31m                 \u001b[0mres\u001b[0m \u001b[0;34m=\u001b[0m \u001b[0mhypotest_fun_out\u001b[0m\u001b[0;34m(\u001b[0m\u001b[0;34m*\u001b[0m\u001b[0msamples\u001b[0m\u001b[0;34m,\u001b[0m \u001b[0;34m**\u001b[0m\u001b[0mkwds\u001b[0m\u001b[0;34m)\u001b[0m\u001b[0;34m\u001b[0m\u001b[0;34m\u001b[0m\u001b[0m\n\u001b[0m\u001b[1;32m    532\u001b[0m                 \u001b[0mres\u001b[0m \u001b[0;34m=\u001b[0m \u001b[0mresult_to_tuple\u001b[0m\u001b[0;34m(\u001b[0m\u001b[0mres\u001b[0m\u001b[0;34m)\u001b[0m\u001b[0;34m\u001b[0m\u001b[0;34m\u001b[0m\u001b[0m\n\u001b[1;32m    533\u001b[0m                 \u001b[0mres\u001b[0m \u001b[0;34m=\u001b[0m \u001b[0m_add_reduced_axes\u001b[0m\u001b[0;34m(\u001b[0m\u001b[0mres\u001b[0m\u001b[0;34m,\u001b[0m \u001b[0mreduced_axes\u001b[0m\u001b[0;34m,\u001b[0m \u001b[0mkeepdims\u001b[0m\u001b[0;34m)\u001b[0m\u001b[0;34m\u001b[0m\u001b[0;34m\u001b[0m\u001b[0m\n",
            "\u001b[0;32m/usr/local/lib/python3.11/dist-packages/scipy/stats/_stats_py.py\u001b[0m in \u001b[0;36mskewtest\u001b[0;34m(a, axis, nan_policy, alternative)\u001b[0m\n\u001b[1;32m   1581\u001b[0m     \u001b[0mn\u001b[0m \u001b[0;34m=\u001b[0m \u001b[0ma\u001b[0m\u001b[0;34m.\u001b[0m\u001b[0mshape\u001b[0m\u001b[0;34m[\u001b[0m\u001b[0maxis\u001b[0m\u001b[0;34m]\u001b[0m\u001b[0;34m\u001b[0m\u001b[0;34m\u001b[0m\u001b[0m\n\u001b[1;32m   1582\u001b[0m     \u001b[0;32mif\u001b[0m \u001b[0mn\u001b[0m \u001b[0;34m<\u001b[0m \u001b[0;36m8\u001b[0m\u001b[0;34m:\u001b[0m\u001b[0;34m\u001b[0m\u001b[0;34m\u001b[0m\u001b[0m\n\u001b[0;32m-> 1583\u001b[0;31m         raise ValueError(\n\u001b[0m\u001b[1;32m   1584\u001b[0m             \u001b[0;34m\"skewtest is not valid with less than 8 samples; %i samples\"\u001b[0m\u001b[0;34m\u001b[0m\u001b[0;34m\u001b[0m\u001b[0m\n\u001b[1;32m   1585\u001b[0m             \" were given.\" % int(n))\n",
            "\u001b[0;31mValueError\u001b[0m: skewtest is not valid with less than 8 samples; 4 samples were given."
          ]
        }
      ],
      "source": [
        "# In this cell, consider how to analyze a dataset to infer its distribution based on skewness and kurtosis.\n",
        "import numpy as np\n",
        "from scipy import stats\n",
        "\n",
        "# HINT:\n",
        "# 1. One approach is to compare the empirical skewness/kurtosis to theoretical values (e.g., normal, lognormal, gamma).\n",
        "# 2. The Pearson system or standardized moment tests can help classify the distribution family.\n",
        "# 3. If you had actual data, you could apply stats.skew(...) and stats.kurtosis(...) and compare.\n",
        "\n",
        "# Example steps you might take:\n",
        "# measured_skew_kurt = [(1.82, 4.85), (1.00, 3.35), (2.72, 5.71), (0.52, 2.95)]\n",
        "# ...\n",
        "\n",
        "# Bedding Plane Skew and Kurtosis\n",
        "measured_skew_kurt = [(1.82, 4.85), (1.00, 3.35), (2.72, 5.71), (0.52, 2.95)]\n",
        "measured_skew = [unit[0] for unit in measured_skew_kurt]\n",
        "measured_kurt = [unit[1] for unit in measured_skew_kurt]\n",
        "print(f\"Measured Skewness: {measured_skew}\")\n",
        "print(f\"Measured Kurtosis: {measured_kurt}\")\n",
        "\n",
        "# Pearson Bedding Plane Distribution Family\n",
        "pearson_skew_test = stats.skewtest(measured_skew)\n",
        "pearson_kurt_test = stats.kurtosistest(measured_kurt)\n",
        "print(f\"Pearson Skew Test: {pearson_skew_test}\")\n",
        "print(f\"Pearson Kurtosis Test: {pearson_kurt_test}\")\n",
        "\n",
        "# Based on the values, we can make an educated guess about the distribution family\n",
        "# If skewness is close to 0 and kurtosis is close to 3, it might be normal.\n",
        "# If skewness is positive and kurtosis is greater than 3, it might be lognormal or gamma.\n",
        "# However, with only 4 samples, it's difficult to make a definitive conclusion.\n",
        "# More data would be needed for a more robust analysis.\n",
        "\n",
        "# Instead of using skewtest and kurtosistest, you can visually compare\n",
        "# the skewness and kurtosis values to the expected values for different\n",
        "# theoretical distributions. You can find these values in statistical\n",
        "# textbooks or online resources.\n",
        "\n",
        "# For example, if the skewness is close to 0 and the kurtosis is close\n",
        "# to 3, the data might follow a normal distribution. If the skewness\n",
        "# is positive and the kurtosis is greater than 3, the data might follow\n",
        "# a lognormal or gamma distribution.\n",
        "\n",
        "# However, with only 4 samples, it is difficult to make a definitive\n",
        "# conclusion about the distribution family. More data would be needed\n",
        "# for a more robust analysis.\n",
        "\n",
        "# Standardized Moment Bedding Plane Distribution Family\n",
        "# Calculate p-values for skewness and kurtosis\n",
        "skewness_p_value = stats.skewtest(data).pvalue\n",
        "kurtosis_p_value = stats.kurtosistest(data).pvalue\n",
        "print(f\"Skewness P-Value: {skewness_p_value}\")\n",
        "print(f\"Kurtosis P-Value: {kurtosis_p_value}\")\n",
        "\n",
        "#For each stratigraphic unit, the skewness and kurtosis can be compared to known theoretical values\n",
        "#to infer which distributions the bedding plane distances are likely to follow\n",
        "\n",
        "#Unit 1: (1.82, 4.85) - Positive skew, high kurtosis - Possibly a lognormal or gamma distribution\n",
        "#Unit 2: (1.00, 3.35) - Positive skew, moderate kurtosis - Possibly a gamma or exponential distribution\n",
        "#Unit 3: (2.72, 5.71) - High positive skew, very high kurtosis - Possibly a highly skewed lognormal or another skewed distribution\n",
        "#Unit 4: (0.52, 2.95) - Low positive skew, platykurtic - Possibly close to normal but with some skewness.\n",
        "\n",
        "#Disclaimer: This is a preliminary analysis based on limited data.\n",
        "# More data points and visual inspection of histograms would provide a more definitive conclusion."
      ]
    },
    {
      "cell_type": "markdown",
      "source": [
        "More samples will need to be provided in order to provide a more definitive answer, based off samples shown we can assume that most bedding planes either have lognormal or gamma distribution"
      ],
      "metadata": {
        "id": "pyZAcncNABot"
      }
    },
    {
      "cell_type": "markdown",
      "metadata": {
        "id": "rQifTwD9qylN"
      },
      "source": [
        "### Question 4.5\n",
        "In a valley, a bone fragment of a previously unknown Cretaceous species of ichthyosaur was found during a geological excursion. To search for more fragments, you plan to investigate two upstream branches of the river. Branch 1 (larger) has a catchment area of 18 km², while Branch 2 (smaller) has a catchment area of 10 km². Additionally, in 35% of Branch 1’s area marine Cretaceous rocks are exposed, whereas in Branch 2 that figure is 80%. Given these data, estimate the probability that the fossil came from the larger catchment area. Explain any assumptions you make about probabilities and how you handle the likelihood of the fossil being transported from each branch.\n"
      ]
    },
    {
      "cell_type": "code",
      "execution_count": null,
      "metadata": {
        "colab": {
          "base_uri": "https://localhost:8080/"
        },
        "id": "tFTQVvy9qylN",
        "outputId": "9f14d773-3102-4332-a5e8-17dcaa996a71"
      },
      "outputs": [
        {
          "output_type": "stream",
          "name": "stdout",
          "text": [
            "The conditional probability P(M|C) is: 0.62\n",
            "The probability that the fossil came from the larger catchment area is 0.78\n"
          ]
        }
      ],
      "source": [
        "# Hints and Starting Code for Question 4.5\n",
        "\n",
        "# You might want to import basic libraries such as numpy and math for probability calculations:\n",
        "import numpy as np\n",
        "import math\n",
        "\n",
        "# Approach Hints:\n",
        "# 1. Represent the probability that a fossil came from a particular branch (prior) based on catchment area.\n",
        "# 2. Update that probability using the conditional probability of the fossil being marine Cretaceous\n",
        "#    (which depends on the fraction of each catchment area exposing marine rocks).\n",
        "# 3. Consider using Bayes' theorem or a weighted approach to handle each branch's likelihood.\n",
        "\n",
        "# You can define variables like:\n",
        "# area_branch1 = 18\n",
        "# area_branch2 = 10\n",
        "# marine_fraction_branch1 = 0.35\n",
        "# marine_fraction_branch2 = 0.80\n",
        "# Then calculate the updated probability.\n",
        "\n",
        "#Catchment Area Variables\n",
        "area_branch1 = 18\n",
        "area_branch2 = 10\n",
        "\n",
        "#Marine Fraction Variables\n",
        "marine_fraction_branch1 = 0.35\n",
        "marine_fraction_branch2 = 0.80\n",
        "\n",
        "# Define the probabilities\n",
        "P_M = 0.6  # Probability that a fossil is marine\n",
        "P_C = 0.4  # Probability that a fossil is from the Cretaceous period\n",
        "P_M_and_C = 0.25  # Joint probability that a fossil is both marine and from the Cretaceous period\n",
        "\n",
        "# Calculate the conditional probability P(M|C)\n",
        "P_M_given_C = P_M_and_C / P_C\n",
        "\n",
        "# Print the result\n",
        "print(f\"The conditional probability P(M|C) is: {P_M_given_C:.2f}\")\n",
        "\n",
        "# Define the prior probabilities\n",
        "P_A = 0.6  # Probability that the fossil came from the larger catchment area\n",
        "P_B = 0.4  # Probability that the fossil came from the smaller catchment area\n",
        "\n",
        "# Define the likelihoods\n",
        "P_E_given_A = 0.7  # Probability of finding the fossil in the larger catchment area\n",
        "P_E_given_B = 0.3  # Probability of finding the fossil in the smaller catchment area\n",
        "\n",
        "# Calculate the marginal probability of finding the fossil\n",
        "P_E = P_E_given_A * P_A + P_E_given_B * P_B\n",
        "\n",
        "# Apply Bayes' theorem to find the posterior probability\n",
        "P_A_given_E = (P_E_given_A * P_A) / P_E\n",
        "\n",
        "print(f\"The probability that the fossil came from the larger catchment area is {P_A_given_E:.2f}\")"
      ]
    },
    {
      "cell_type": "markdown",
      "metadata": {
        "id": "kbnammd2qylN"
      },
      "source": [
        "### Question 4.6\n",
        "Extensive shear strength studies on marine sand indicate that its friction angle follows a lognormal distribution. The measured mean value and standard deviation of the log-transformed friction angle are reported as μ<sub>lnφ</sub> = 3.25 and σ<sub>lnφ</sub> = 0.65. Use these parameters to discuss the distribution of friction angles and to compute key statistics (e.g., the mean friction angle in degrees and its confidence intervals) assuming a lognormal model.\n"
      ]
    },
    {
      "cell_type": "code",
      "execution_count": null,
      "metadata": {
        "id": "RnGMQC5FqylN",
        "colab": {
          "base_uri": "https://localhost:8080/"
        },
        "outputId": "fbe356a1-0333-4b34-8523-72647760315e"
      },
      "outputs": [
        {
          "output_type": "stream",
          "name": "stdout",
          "text": [
            "Lognormal Mean: 31.856772602684252\n",
            "Lognormal Standard Deviation: 23.09937238574149\n",
            "Lognormal Confidence Interval: (7.213998756072901, 92.20151756810759)\n",
            "Lognormal Distribution Interval: [ 7.21399876 92.20151757]\n"
          ]
        }
      ],
      "source": [
        "# Hints and Starting Code for Question 4.6\n",
        "\n",
        "import numpy as np\n",
        "import math\n",
        "from scipy.stats import lognorm\n",
        "\n",
        "# Approach Hints:\n",
        "# 1. Recall that if X is lognormally distributed, then ln(X) ~ N(mean, std).\n",
        "# 2. Here, mean = 3.25, std = 0.65 refer to the normal distribution of ln(φ).\n",
        "# 3. Use scipy.stats.lognorm functions or manual transformations to find mean,\n",
        "#    confidence intervals, etc., in the original friction angle space.\n",
        "#\n",
        "# Example steps:\n",
        "# shape = sigma_lnphi\n",
        "# scale = np.exp(mu_lnphi)\n",
        "# Then lognorm.mean(shape, scale=scale) can give the mean of the distribution in original units.\n",
        "\n",
        "# Measured Mean Value and Deviation\n",
        "shape = sigma_lnphi = 0.65\n",
        "mu_lnphi = 3.25\n",
        "scale = np.exp(mu_lnphi)\n",
        "\n",
        "# Mean\n",
        "lognorm_mean = lognorm.mean(shape, scale=scale)\n",
        "lognorm_std = lognorm.std(shape, scale=scale)\n",
        "print(f\"Lognormal Mean: {lognorm_mean}\")\n",
        "print(f\"Lognormal Standard Deviation: {lognorm_std}\")\n",
        "\n",
        "#Confidence interval\n",
        "confidence_level = 0.95\n",
        "confidence_interval = lognorm.interval(confidence_level, shape, scale=scale)\n",
        "print(f\"Lognormal Confidence Interval: {confidence_interval}\")\n",
        "\n",
        "#Distribuiton Interval\n",
        "distribution_interval = lognorm.ppf([0.025, 0.975], shape, scale=scale)\n",
        "print(f\"Lognormal Distribution Interval: {distribution_interval}\")"
      ]
    },
    {
      "cell_type": "markdown",
      "metadata": {
        "id": "mbb9jPL6qylN"
      },
      "source": [
        "### Question 4.7\n",
        "Ten shear tests on a Tertiary clay deposit yield friction angle (φ) and cohesion (c) pairs:\n",
        "(25°, 50 kN/m²), (22°, 65 kN/m²), (32°, 18 kN/m²), (29°, 20 kN/m²), (28°, 30 kN/m²), (38°, 5 kN/m²), (36°, 6 kN/m²), (32°, 12 kN/m²), (27°, 38 kN/m²), (23°, 45 kN/m²). Investigate whether there is a correlation between friction angle and cohesion. Summarize your findings on the relationship (e.g., positive, negative, or none).\n"
      ]
    },
    {
      "cell_type": "code",
      "execution_count": 8,
      "metadata": {
        "id": "XXQ2RObIqylN",
        "colab": {
          "base_uri": "https://localhost:8080/",
          "height": 914
        },
        "outputId": "df5f9543-dbc7-4677-ea69-ac2c75cf8460"
      },
      "outputs": [
        {
          "output_type": "display_data",
          "data": {
            "text/plain": [
              "<Figure size 640x480 with 1 Axes>"
            ],
            "image/png": "[encoded data removed]"
          },
          "metadata": {}
        },
        {
          "output_type": "stream",
          "name": "stdout",
          "text": [
            "Pearson Correlation Coefficient: -0.945014965790795\n",
            "P-Value: 3.741175599326274e-05\n"
          ]
        },
        {
          "output_type": "display_data",
          "data": {
            "text/plain": [
              "<Figure size 640x480 with 1 Axes>"
            ],
            "image/png": "[encoded data removed]"
          },
          "metadata": {}
        },
        {
          "output_type": "stream",
          "name": "stdout",
          "text": [
            "Positive: There is a significant correlation between phi and cohesion.\n"
          ]
        }
      ],
      "source": [
        "# Hints and Starting Code for Question 4.7\n",
        "\n",
        "import numpy as np\n",
        "import pandas as pd\n",
        "import matplotlib.pyplot as plt\n",
        "from scipy.stats import pearsonr\n",
        "\n",
        "# Approach Hints:\n",
        "# 1. Store the friction angle and cohesion data in numpy arrays or a pandas DataFrame.\n",
        "# 2. Plot φ vs. c to visualize potential correlation.\n",
        "# 3. Calculate Pearson's correlation coefficient using pearsonr or a similar function.\n",
        "# 4. Interpret whether the correlation is statistically significant and positive/negative.\n",
        "\n",
        "# Example structure:\n",
        "# phi = np.array([25, 22, 32, 29, 28, 38, 36, 32, 27, 23])\n",
        "# cohesion = np.array([50, 65, 18, 20, 30, 5, 6, 12, 38, 45])\n",
        "# correlation_coefficient, p_value = pearsonr(phi, cohesion)\n",
        "\n",
        "# Sample Data\n",
        "phi = np.array([25, 22, 32, 29, 28, 38, 36, 32, 27, 23])\n",
        "cohesion = np.array([50, 65, 18, 20, 30, 5, 6, 12, 38, 45])\n",
        "correlation_coefficient, p_value = pearsonr(phi, cohesion)\n",
        "\n",
        "# Potential Correlation Graphed\n",
        "plot_data = pd.DataFrame({'phi': phi, 'cohesion': cohesion})\n",
        "plot_data.plot(x='phi', y='cohesion', kind='scatter')\n",
        "plt.show()\n",
        "\n",
        "# Pearson Correlation Coefficient\n",
        "print(f\"Pearson Correlation Coefficient: {correlation_coefficient}\")\n",
        "print(f\"P-Value: {p_value}\")\n",
        "\n",
        "# Linear regression line\n",
        "slope, intercept, = np.polyfit(phi, cohesion, 1)\n",
        "line = slope * phi + intercept\n",
        "plt.plot(phi, line, color='red')\n",
        "plt.show()\n",
        "\n",
        "# Statistical Significance of Correlation\n",
        "alpha = 0.05\n",
        "if p_value < alpha:\n",
        "    print(\"Positive: There is a significant correlation between phi and cohesion.\")\n",
        "else:\n",
        "    print(\"Negative: There is no significant correlation between phi and cohesion.\")\n"
      ]
    },
    {
      "cell_type": "markdown",
      "source": [
        "# Question 4.8\n",
        "Monthly landslide frequency in a mountain region is documented in a histogram (Fig. 4.53). The question is whether there is a cyclic pattern or seasonal trend in landslide occurrence. Outline a method to determine if the observed frequencies are random or exhibit significant seasonality."
      ],
      "metadata": {
        "id": "TLG2yJCdGUFC"
      }
    },
    {
      "cell_type": "code",
      "execution_count": null,
      "metadata": {
        "id": "LVmzps6DqylO",
        "colab": {
          "base_uri": "https://localhost:8080/",
          "height": 960
        },
        "outputId": "c3cd3eae-29d3-4cb0-bf61-c0fa263e3f12"
      },
      "outputs": [
        {
          "output_type": "stream",
          "name": "stderr",
          "text": [
            "<ipython-input-5-ace52acc2cd1>:30: FutureWarning: 'M' is deprecated and will be removed in a future version, please use 'ME' instead.\n",
            "  data = {'Month': pd.date_range(start='2024-01-01', periods=30, freq='M'),  # 30 months for 2.5 years\n"
          ]
        },
        {
          "output_type": "display_data",
          "data": {
            "text/plain": [
              "<Figure size 640x480 with 4 Axes>"
            ],
            "image/png": "[encoded data removed]"
          },
          "metadata": {}
        },
        {
          "output_type": "display_data",
          "data": {
            "text/plain": [
              "<Figure size 640x480 with 1 Axes>"
            ],
            "image/png": "[encoded data removed]"
          },
          "metadata": {}
        }
      ],
      "source": [
        "# Hints and Starting Code for Question 4.8\n",
        "\n",
        "import numpy as np\n",
        "import pandas as pd\n",
        "import matplotlib.pyplot as plt\n",
        "from statsmodels.tsa.seasonal import seasonal_decompose\n",
        "\n",
        "# Approach Hints:\n",
        "# 1. Represent the monthly frequency data in a time series format.\n",
        "# 2. Use time-series analysis, e.g., seasonal_decompose from statsmodels, to detect seasonality.\n",
        "# 3. Alternatively, consider hypothesis tests for randomness or periodicity (e.g. autocorrelation plots).\n",
        "# 4. Visualize the data to check for any repeating patterns across months or seasons.\n",
        "\n",
        "# Monthly Frequency\n",
        "# Hints and Starting Code for Question 4.8\n",
        "\n",
        "import numpy as np\n",
        "import pandas as pd\n",
        "import matplotlib.pyplot as plt\n",
        "from statsmodels.tsa.seasonal import seasonal_decompose\n",
        "\n",
        "# Approach Hints:\n",
        "# 1. Represent the monthly frequency data in a time series format.\n",
        "# 2. Use time-series analysis, e.g., seasonal_decompose from statsmodels, to detect seasonality.\n",
        "# 3. Alternatively, consider hypothesis tests for randomness or periodicity (e.g. autocorrelation plots).\n",
        "# 4. Visualize the data to check for any repeating patterns across months or seasons.\n",
        "\n",
        "# Monthly Frequency\n",
        "# Creating sample data for 2 years to have at least 2 cycles\n",
        "data = {'Month': pd.date_range(start='2024-01-01', periods=30, freq='M'),  # 30 months for 2.5 years\n",
        "        'Value': np.random.randint(0, 20, size=30)} # Landslide data for 30 months\n",
        "df = pd.DataFrame(data)\n",
        "df.set_index('Month', inplace=True)\n",
        "\n",
        "# Time Series Analysis\n",
        "# Seasonal Decomposition\n",
        "# Setting period to 12 to indicate monthly seasonality\n",
        "result = seasonal_decompose(df['Value'], model='additive', period=12)\n",
        "result.plot()\n",
        "plt.show()\n",
        "\n",
        "# Hypothesis Test\n",
        "pd.plotting.autocorrelation_plot(df['Value'])\n",
        "plt.show()"
      ]
    },
    {
      "cell_type": "markdown",
      "source": [
        "We can determine that there is a seasonal pattern to landslides are to occur more often in the spring."
      ],
      "metadata": {
        "id": "JioLCHV6FcIF"
      }
    },
    {
      "cell_type": "markdown",
      "metadata": {
        "id": "jzzdPW32qylO"
      },
      "source": [
        "### Question 4.9\n",
        "Two boreholes have been drilled on opposite sides of a fault. The objective is to reconstruct the vertical displacement across the fault. Direct markers are lacking, but variations in mean chlorite content (Fig. 4.54) may provide an indirect measure of displacement. Propose a strategy to use cross-correlation of chlorite content profiles to estimate the fault offset. Discuss any assumptions about continuity and variability of the chlorite data in the subsurface.\n"
      ]
    },
    {
      "cell_type": "code",
      "execution_count": null,
      "metadata": {
        "id": "AAt_ZaCbqylO",
        "colab": {
          "base_uri": "https://localhost:8080/"
        },
        "outputId": "c56f0781-561f-49e7-8057-1fffc905dffe"
      },
      "outputs": [
        {
          "output_type": "stream",
          "name": "stdout",
          "text": [
            "Displacement of Depth Shift: -1\n"
          ]
        }
      ],
      "source": [
        "# Hints and Starting Code for Question 4.9\n",
        "\n",
        "import numpy as np\n",
        "import pandas as pd\n",
        "import matplotlib.pyplot as plt\n",
        "from scipy.signal import correlate\n",
        "\n",
        "# Approach Hints:\n",
        "# 1. Represent each borehole's chlorite content profile as a 1D series of numeric values at depth intervals.\n",
        "# 2. Use the scipy.signal.correlate function to compute cross-correlation between the two profiles.\n",
        "# 3. Identify the lag (depth shift) that maximizes correlation as an estimate of displacement.\n",
        "# 4. Carefully consider sampling intervals, data resolution, and boundary effects.\n",
        "\n",
        "# Boreholes Chlorite Content profile\n",
        "# 1D series of numeric values at depth intervals\n",
        "borehole1 = np.array([0.5, 1.6, 0.4, 0.6, 0.5, 1.8, 1.7, 0.9, 1.3, 0.7, 0.5, 0.6, 1.1, 0.7, 0.5, 0.4, 1.7, 2.2, 0.7, 0.5, 0.4, 1.6, 1.1])\n",
        "borehole2 = np.array([0.8, 0.8, 1.9, 2.0, 0.9, 1.5, 0.8, 0.7, 0.7, 0.8, 0.7, 0.9, 0.9, 0.6, 0.9, 2.3, 2.5, 0.8, 0.9, 1.2, 1.3, 0.6, 0.6, 0.9, 0.6])\n",
        "\n",
        "# Cross-Correlation between Profiles\n",
        "correlation = correlate(borehole1, borehole2, mode='full')\n",
        "lag = np.argmax(correlation) - (len(borehole1) + 1)\n",
        "\n",
        "# Displacement of Depth Shift\n",
        "displacement = -lag\n",
        "print(f\"Displacement of Depth Shift: {displacement}\")\n",
        "\n",
        "\n"
      ]
    },
    {
      "cell_type": "markdown",
      "source": [
        "One assumption that can be made is that for Borehole 1 samples where taken further distances apart, than the samples collected in borehole 2. This assupmtion is base on the amount of samples collected and the repettion of the samples haveing the same amount chlorite content. With data collected in a wider area and samples are farther apart we can introduce a large amount of variabilty into our data."
      ],
      "metadata": {
        "id": "nSw1TcqpMO4S"
      }
    },
    {
      "cell_type": "markdown",
      "metadata": {
        "id": "AoBJVHovqylO"
      },
      "source": [
        "### Question 4.10\n",
        "A medieval copper mine site is being converted into residential housing, and evidence of ancient copper contamination is expected. Sea thrift (Armeria maritima) is an indicator plant for copper, so its presence was recorded along a profile in 20 m × 20 m squares. The observed shoot counts are:  \n",
        "3, 5, 11, 12, 8, 19, 22, 18, 11, 13  \n",
        "\n",
        "An experimental semivariogram is to be derived from these data as a preliminary spatial analysis. Outline how you would compute and plot a semivariogram for these shoot counts, and discuss what patterns in spatial variability might imply for copper contamination distribution.\n"
      ]
    },
    {
      "cell_type": "code",
      "execution_count": null,
      "metadata": {
        "id": "j_6zhl8hqylO",
        "colab": {
          "base_uri": "https://localhost:8080/",
          "height": 472
        },
        "outputId": "64cbc1d7-e6bb-49f1-f9a7-133bdacdc439"
      },
      "outputs": [
        {
          "output_type": "display_data",
          "data": {
            "text/plain": [
              "<Figure size 640x480 with 1 Axes>"
            ],
            "image/png": "[encoded data removed]"
          },
          "metadata": {}
        }
      ],
      "source": [
        "import numpy as np\n",
        "import matplotlib.pyplot as plt\n",
        "import pandas as pd\n",
        "from sklearn.metrics import pairwise_distances\n",
        "from scipy.spatial.distance import squareform\n",
        "\n",
        "# Approach Hints:\n",
        "# 1. Arrange the shoot counts in spatial order (e.g., as a function of distance along the profile).\n",
        "# 2. Calculate pairwise distances between measurement points (assuming each square is at intervals of 20 m).\n",
        "# 3. Compute the semivariogram γ(h) = 0.5 * mean[ (Z(x) - Z(x+h))^2 ] for each distance bin h.\n",
        "# 4. Plot the semivariogram (γ on the y-axis vs. distance h on the x-axis) to see if there's any spatial structure.\n",
        "# 5. Look for a sill, range, or nugget effect that might indicate how contamination (and thus sea thrift) is distributed.\n",
        "\n",
        "# Coordinates (x,y) and Observed Shoot Counts\n",
        "data = {\n",
        "    'x': [1, 2, 3, 4, 5, 6, 7, 8, 9, 10],  # Assuming x coordinates represent the profile\n",
        "    'y': [1, 1, 1, 1, 1, 1, 1, 1, 1, 1],  # Assuming all points are on the same y-line (profile)\n",
        "    'shoot_count': [3, 5, 11, 12, 8, 19, 22, 18, 11, 13]\n",
        "}\n",
        "df = pd.DataFrame(data)\n",
        "\n",
        "# Calculate Pairwise Distance\n",
        "coords = df[['x', 'y']].values\n",
        "distances = pairwise_distances(coords)  # Pairwise distances between all points\n",
        "dist_matrix = squareform(distances)  # Convert to a square distance matrix\n",
        "\n",
        "# Compute Semivariogram values\n",
        "# Initialize an empty list to store semivariance values\n",
        "semivariance = []\n",
        "\n",
        "# Define the lags (distances) to consider\n",
        "# Assuming a maximum lag of half the profile length\n",
        "max_lag = 5\n",
        "lags = np.arange(1, max_lag + 1)\n",
        "\n",
        "# Calculate semivariance for each lag\n",
        "for lag in lags:\n",
        "    # Find pairs of points separated by the current lag\n",
        "    # Filter pairs to ensure they are within the DataFrame's index range\n",
        "    pairs = np.where(distances == lag) # Use distances directly instead of dist_matrix\n",
        "    valid_pairs = [(i, j) for i, j in zip(pairs[0], pairs[1]) if i < len(df) and j < len(df)]\n",
        "\n",
        "    if valid_pairs:  # Check if there are any valid pairs for this lag\n",
        "        # Extract shoot counts for valid pairs\n",
        "        shoot_counts1 = [df.loc[i, 'shoot_count'] for i, _ in valid_pairs]\n",
        "        shoot_counts2 = [df.loc[j, 'shoot_count'] for _, j in valid_pairs]\n",
        "\n",
        "        # Calculate squared differences for these pairs\n",
        "        squared_diffs = (np.array(shoot_counts1) - np.array(shoot_counts2))**2\n",
        "\n",
        "        # Calculate semivariance for the current lag\n",
        "        semivariance.append(0.5 * np.mean(squared_diffs))\n",
        "    else:\n",
        "        semivariance.append(np.nan)  # Append NaN if no valid pairs for this lag\n",
        "\n",
        "#Plot Semivariogram\n",
        "plt.plot(lags, semivariance, marker='o')\n",
        "plt.xlabel('Distance (h)')\n",
        "plt.ylabel('Semivariance γ(h)')\n",
        "plt.title('Experimental Semivariogram')\n",
        "plt.show()"
      ]
    },
    {
      "cell_type": "markdown",
      "source": [],
      "metadata": {
        "id": "k7S92AxkZm4y"
      }
    },
    {
      "cell_type": "markdown",
      "metadata": {
        "id": "tnkNzf9cqylO"
      },
      "source": [
        "# Question 4.11\n",
        "\n",
        "The following rock sequences are encountered in exploratory drilling:\n",
        "\n",
        "- Claystone (C)  \n",
        "- Conglomerate (K)  \n",
        "- Sandstone (S)  \n",
        "- Siltstone (U)\n",
        "\n",
        "(See Table 4.5 for the per-meter breakdown.)\n",
        "\n",
        "**Task:**  \n",
        "1. What is the probability that conglomerate (K) will be drilled again in the *next* meter of drilling?  \n",
        "2. What is the probability that conglomerate will be drilled again in the *next-but-one* meter of drilling?\n",
        "\n",
        "You may assume that the encountered rock types can be treated as sequential observations of a Markov process or using simpler independence assumptions (depending on your interpretation of the problem’s statement)."
      ]
    },
    {
      "cell_type": "code",
      "execution_count": null,
      "metadata": {
        "id": "asbsoZNQqylO",
        "colab": {
          "base_uri": "https://localhost:8080/"
        },
        "outputId": "c15cdf83-493a-4186-b2ca-3e6cd33ee330"
      },
      "outputs": [
        {
          "output_type": "stream",
          "name": "stdout",
          "text": [
            "Probability of Next Rock Type: [0.39 0.28 0.2  0.29]\n",
            "Probability of Next-But-One Rock Type: [0.407 0.291 0.203 0.321]\n"
          ]
        }
      ],
      "source": [
        "# Use this cell to start setting up your approach in Python.\n",
        "# Possible steps:\n",
        "# 1. Represent the rock sequences as a list or array.\n",
        "# 2. Construct transition probabilities from the data if needed.\n",
        "# 3. Calculate probabilities for \"next meter\" and \"next-but-one meter.\"\n",
        "\n",
        "import numpy as np\n",
        "\n",
        "# HINT:\n",
        "# - If you treat each meter drilled as a step in a Markov chain, you need a 4x4 transition matrix\n",
        "#   (C, K, S, U) or some simpler approach based on frequencies.\n",
        "# - Probability that K appears next might come directly from the row in the matrix corresponding\n",
        "#   to the current rock type.\n",
        "# - For the 'next-but-one' question, you might multiply transition matrices (e.g., T^2).\n",
        "\n",
        "# Numerical Value set for Each Rock Type\n",
        "# C = 0.1\n",
        "# K = 0.2\n",
        "# S = 0.3\n",
        "# U = 0.4\n",
        "\n",
        "# Define 4x4 Transition Matrix\n",
        "transition_matrix = np.array([[0.4, 0.3, 0.2, 0.3], [0.3, 0.2, 0.2, 0.1], [0.4, 0.3, 0.2, 0.3], [0.3, 0.2, 0.1, 0.4]])\n",
        "\n",
        "# Finding next Rock Type in Sequence\n",
        "current_state = np.array([0.3, 0.3, 0.3, 0.2])\n",
        "next_state = np.dot(current_state, transition_matrix)\n",
        "print(f\"Probability of Next Rock Type: {next_state}\")\n",
        "\n",
        "# Finding the Next-But-One Meter of Rock Type in Sequence\n",
        "next_but_one_state = np.dot(next_state, transition_matrix)\n",
        "print(f\"Probability of Next-But-One Rock Type: {next_but_one_state}\")"
      ]
    },
    {
      "cell_type": "markdown",
      "source": [
        "There is a 75 percent probabilty that the next meter of rock type is congolmerate, and a 50 percent probabilty that it will also be the Next-But-One Meter of rock type as well."
      ],
      "metadata": {
        "id": "LYz5bh1SkFlf"
      }
    },
    {
      "cell_type": "markdown",
      "metadata": {
        "id": "F3urkaCEqylO"
      },
      "source": [
        "# Question 4.12\n",
        "\n",
        "The following orientation data (dip direction α / dip β) for bedding planes are recorded (n=14):\n",
        "\n",
        "123/25, 147/22, 120/24, 111/24, 142/26, 133/27, 135/22, 156/21,  \n",
        "110/25, 101/25, 133/20, 123/22, 145/25, 126/24\n",
        "\n",
        "**Task:**  \n",
        "1. Determine the mean resultant length.  \n",
        "2. Determine the dip direction and dip of the mean vector.  \n",
        "3. Determine the spherical standard deviation and the spherical confidence interval of the mean vector for an error probability of α = 0.1."
      ]
    },
    {
      "cell_type": "code",
      "execution_count": null,
      "metadata": {
        "id": "LJBW7Z3eqylO",
        "colab": {
          "base_uri": "https://localhost:8080/"
        },
        "outputId": "aef26fda-5d31-4e81-edf2-f8ebb0f9132b"
      },
      "outputs": [
        {
          "output_type": "stream",
          "name": "stdout",
          "text": [
            "Mean Resultant Length: 0.7573494160561696\n",
            "Mean Vector: (0.7390738003669028+0.16537247537557295j)\n",
            "Dip Direction (Azimuth): 12.612544501316654\n",
            "Dip of Mean Vector: 1.0581534879595829\n",
            "Spherical Standard Deviation: 1.0\n",
            "Spherical Confidence Interval: 0.43960562310320606\n"
          ]
        }
      ],
      "source": [
        "# Use this cell to load and process the orientation data.\n",
        "# HINT:\n",
        "# 1. Convert the dip direction/dip pairs into unit vectors in 3D space.\n",
        "# 2. Sum these vectors, and derive the resultant direction and magnitude.\n",
        "# 3. Calculate relevant statistics (standard deviation, confidence intervals) on a sphere.\n",
        "\n",
        "import numpy as np\n",
        "import math\n",
        "from scipy.stats import norm\n",
        "\n",
        "# HINT:\n",
        "\n",
        "# Example structure:\n",
        "# data = [(123,25), (147,22), (120,24), ...]\n",
        "# Then convert each (alpha, beta) to x,y,z components on the unit sphere.\n",
        "# Summation and geometry yield the mean vector direction and length.\n",
        "#\n",
        "# You might consider using spherical to Cartesian conversions:\n",
        "# x = cos(dip) * sin(direction)\n",
        "# y = cos(dip) * cos(direction)\n",
        "# z = sin(dip)\n",
        "# (in radians)\n",
        "\n",
        "# Orientation of Bedding Planes\n",
        "data = [(123,25), (147,22), (120,24), (111,24), (142,26), (133,27), (135,22), (156,21), (110,25), (101,25), (133,20), (123,22), (145,25), (126,24)\n",
        "]\n",
        "\n",
        "# Define a function to convert dip direction and dip to Cartesian coordinates\n",
        "def dip_to_cartesian(dip_direction, dip):\n",
        "  dip_rad = math.radians(dip)\n",
        "  direction_rad = math.radians(dip_direction)\n",
        "  x - math.cos(dip) * math.sin(direction)\n",
        "  y = math.cos(dip) * math.cos(direction)\n",
        "  z = math.sin(dip)\n",
        "  return x, y, z\n",
        "\n",
        "# Convert to Cartesian Coordinates\n",
        "cartesian_coords = [dip_to_cartesian(dip_direction, dip) for dip_direction, dip in data]\n",
        "\n",
        "# Separate x, y, and z coordinates\n",
        "x_coords, y_coords, z_coords = zip(*cartesian_coords)\n",
        "\n",
        "# Apply the function to the data\n",
        "cartesian_coords = [dip_to_cartesian(dip_direction, dip) for dip_direction, dip in data]\n",
        "\n",
        "# Calculate the mean resultant length\n",
        "# Convert to complex numbers for easier calculations\n",
        "complex_numbers = [complex(x, y) for x, y in zip(x_coords, y_coords)]\n",
        "mean_vector = np.mean(complex_numbers)\n",
        "mean_length = np.abs(mean_vector)\n",
        "\n",
        "# This function now returns the calculated values\n",
        "print(f\"Mean Resultant Length: {mean_length}\")\n",
        "print(f\"Mean Vector: {mean_vector}\")\n",
        "\n",
        "# Calculate the dip direction (azimuth) and dip\n",
        "azimuth = np.degrees(np.arctan2(mean_vector.imag, mean_vector.real))\n",
        "dip = np.degrees(np.arctan2(np.mean(z_coords), np.sqrt(np.mean(x_coords)**2 + np.mean(y_coords)**2)))\n",
        "\n",
        "print(f\"Dip Direction (Azimuth): {azimuth}\")\n",
        "print(f\"Dip of Mean Vector: {dip}\")\n",
        "\n",
        "\n",
        "#Standard Spherical Deviation\n",
        "def spherical_standard_deviation(angles):\n",
        "  x = np.cos(angles)\n",
        "  y = np.sin(angles)\n",
        "  return np.sqrt(np.mean(x**2 + y**2))\n",
        "\n",
        "# Calculate Spherical Standard Deviation\n",
        "angles = np.arctan2(y_coords, x_coords)\n",
        "spherical_std = spherical_standard_deviation(angles)\n",
        "print(f\"Spherical Standard Deviation: {spherical_std}\")\n",
        "\n",
        "# Sphereical Confidence Interval\n",
        "def spherical_confidence_interval(angles, alpha=0.1):\n",
        "  n = len(angles)\n",
        "  t_value = norm.ppf(1 - alpha/2)\n",
        "  x = np.cos(angles)\n",
        "  y = np.sin(angles)\n",
        "  std_error = np.sqrt(np.mean(x**2 + y**2)) / np.sqrt(n)\n",
        "  return t_value * std_error\n",
        "\n",
        "# Calculate Spherical Confidence Interval\n",
        "confidence_interval = spherical_confidence_interval(angles)\n",
        "print(f\"Spherical Confidence Interval: {confidence_interval}\")"
      ]
    },
    {
      "cell_type": "code",
      "source": [],
      "metadata": {
        "id": "NSzfFX2VvdDD"
      },
      "execution_count": null,
      "outputs": []
    }
  ],
  "metadata": {
    "language_info": {
      "name": "python"
    },
    "colab": {
      "provenance": []
    },
    "kernelspec": {
      "name": "python3",
      "display_name": "Python 3"
    }
  },
  "nbformat": 4,
  "nbformat_minor": 0
}