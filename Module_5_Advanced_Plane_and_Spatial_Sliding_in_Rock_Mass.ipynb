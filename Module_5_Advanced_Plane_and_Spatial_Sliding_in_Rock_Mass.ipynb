{
  "cells": [
    {
      "cell_type": "markdown",
      "metadata": {
        "id": "view-in-github",
        "colab_type": "text"
      },
      "source": [
        "<a href=\"https://colab.research.google.com/github/iGeology-Illinois/geol-581-module-3-principles-of-uncertainty-chapter-4-seanb7/blob/main/Module_5_Advanced_Plane_and_Spatial_Sliding_in_Rock_Mass.ipynb\" target=\"_parent\"><img src=\"https://colab.research.google.com/assets/colab-badge.svg\" alt=\"Open In Colab\"/></a>"
      ]
    },
    {
      "cell_type": "markdown",
      "metadata": {
        "id": "2m8BIiZxloO-"
      },
      "source": [
        "# Module 5: Advanced Plane and Spatial Sliding in Rock Mass\n",
        "\n",
        "## Introduction\n",
        "The following notebook builds on the concepts from the eight referenced textbook pages.  \n",
        "These sections expand on the physics of **plane sliding in rock mass**, examining situations where the sliding surface is constrained by joint sets (Figs. 10.39, 10.40, 10.41) and exploring **spatial (wedge) sliding** where two discontinuities intersect (Figs. 10.45, 10.46). There is also emphasis on **joint water pressure** (Figs. 10.42, 10.47), which can significantly reduce stability if water accumulates in discontinuities.\n",
        "\n",
        "In this assignment, you will write and modify Python code to handle:\n",
        "1. Plane sliding blocks with varying inclination, friction angles, and partial/ full joint water pressures.\n",
        "2. A simplified approach to wedge (spatial) sliding when two intersecting planes daylights the slope.\n",
        "3. Sensitivity analysis to see how joint water pressure, block geometry, or friction angles affect stability.\n",
        "\n",
        "You are not expected to provide a complete solution for each item, but rather to create well-structured code and clear explanations, demonstrating how you integrate the theoretical equations with computational approaches. Focus on how changes in input parameters alter the factor of safety and interpret your results with reference to the textbook figures and concepts.\n",
        "\n"
      ]
    },
    {
      "cell_type": "code",
      "execution_count": null,
      "metadata": {
        "id": "to8h0WSOloO_"
      },
      "outputs": [],
      "source": [
        "# Part 0: Setup\n",
        "# In this section, import the libraries you expect to use throughout the assignment.\n",
        "# You may add more libraries if you like (e.g., pandas, sympy) for advanced calculations.\n",
        "\n",
        "import numpy as np\n",
        "import matplotlib.pyplot as plt\n",
        "\n",
        "# Optional: set up a random seed for reproducibility if needed\n",
        "np.random.seed(42)\n",
        "\n",
        "print(\"Libraries imported. Ready to proceed with analyses!\")\n"
      ]
    },
    {
      "cell_type": "markdown",
      "metadata": {
        "id": "3W7hHRIRloPA"
      },
      "source": [
        "## Part 1: Plane Sliding in Rock Mass\n",
        "\n",
        "Recall from the textbook (Figs. 10.39–10.41) that a plane sliding mechanism in rock mass differs from sliding in soil because:\n",
        "- The dip of the potential sliding plane is **flatter** than the slope (kinematic condition).\n",
        "- The frictional resistance along this discontinuity is **overcome** (mechanical condition).\n",
        "\n",
        "In a simple model, we treat the block as resting on a plane with friction angle φ. If the dip angle of that plane is θ and the slope angle is β, once θ (or a combination of angles) exceeds the maximum mobilized friction angle φ<sub>m</sub>, sliding can occur.\n",
        "\n",
        "### Task\n",
        "1. Define a Python function to compute a factor of safety for a single rock block on a plane with joint water pressure.  \n",
        "2. Incorporate user-defined parameters:\n",
        "   - Weight of the block.\n",
        "   - Dip angle of the sliding plane (θ).\n",
        "   - Joint water pressure ratio, or partial/ full water pressure assumption along the plane (refer to Figs. 10.42, 10.47).\n",
        "   - Friction angle of the discontinuity (φ).\n",
        "3. Provide helpful docstrings and brief commentary in your code.  \n",
        "4. Run a quick test with some example values, verifying that your function behaves as expected.\n",
        "\n",
        "Below is a skeleton code cell that you may modify. The actual formula for factor of safety should reference the polygon of forces approach described in the text. For instance, if the block weight is W, friction angle is φ, and the normal force is decreased by a water pressure W<sub>j</sub>, then:\n",
        "\n",
        "**Effective Normal** = N<sub>eff</sub> = W cos(θ) - W<sub>j</sub>  \n",
        "**Driving** = W sin(θ)  \n",
        "**Resisting** = N<sub>eff</sub> tan(φ) (assuming no cohesion)\n",
        "\n",
        "This is just an example. Expand or adjust to reflect the correct geometry from the textbook.\n"
      ]
    },
    {
      "cell_type": "code",
      "execution_count": null,
      "metadata": {
        "id": "VELa7p_jloPA"
      },
      "outputs": [],
      "source": [
        "# Part 1: Plane Sliding Function (with joint water pressure)\n",
        "def plane_sliding_fos_rock(W, theta_deg, phi_deg, water_pressure_ratio=0.0):\n",
        "    \"\"\"\n",
        "    Computes a simplified factor of safety for a rock block on a plane,\n",
        "    incorporating a user-defined water pressure ratio that reduces the normal force.\n",
        "\n",
        "    Parameters:\n",
        "    W  : Weight of the block (kN)\n",
        "    theta_deg : Dip angle of the sliding plane (degrees)\n",
        "    phi_deg   : Friction angle (degrees)\n",
        "    water_pressure_ratio : Fraction of normal force replaced by water (0.0 means no water pressure)\n",
        "\n",
        "    Returns:\n",
        "    Factor of safety (dimensionless)\n",
        "    \"\"\"\n",
        "    theta = np.radians(theta_deg)\n",
        "    phi = np.radians(phi_deg)\n",
        "\n",
        "    # Normal force without water\n",
        "    N = W * np.cos(theta)\n",
        "    # Driving force\n",
        "    D = W * np.sin(theta)\n",
        "\n",
        "    # Effective normal (subtract some portion due to water pressure)\n",
        "    N_eff = N * (1 - water_pressure_ratio)\n",
        "\n",
        "    # If no normal force or negative, the block may be floating or unstable\n",
        "    if N_eff <= 0:\n",
        "        return 0.0\n",
        "\n",
        "    # Resisting force from friction\n",
        "    R = N_eff * np.tan(phi)\n",
        "\n",
        "    # Factor of safety\n",
        "    if D == 0:\n",
        "        return np.inf\n",
        "    return R / D\n",
        "\n",
        "# Quick demonstration\n",
        "example_W = 50.0           # kN\n",
        "example_theta = 25.0       # deg\n",
        "example_phi = 30.0         # deg\n",
        "example_ratio = 0.3        # 30% water pressure ratio\n",
        "\n",
        "fos_rock_example = plane_sliding_fos_rock(example_W, example_theta, example_phi, example_ratio)\n",
        "print(f\"Example FOS (rock plane): {fos_rock_example:.3f}\")\n"
      ]
    },
    {
      "cell_type": "markdown",
      "metadata": {
        "id": "W2ldPjzQloPA"
      },
      "source": [
        "## Part 2: Spatial (Wedge) Sliding\n",
        "\n",
        "In Figs. 10.45–10.47, the textbook introduces a more three-dimensional problem where two discontinuities (joint planes) intersect. The line of intersection daylights out of the slope, and if both friction angles are exceeded, the block can slip along both planes simultaneously.\n",
        "\n",
        "### Task\n",
        "1. Implement a function that models wedge sliding.\n",
        "2. Assume two planes with friction angles φ<sub>A</sub> and φ<sub>B</sub>, dips ω<sub>A</sub> and ω<sub>B</sub>.\n",
        "3. Incorporate some form of joint water pressure if applicable (a simplified approach is fine).\n",
        "4. Provide at least one test scenario to check if your wedge remains stable or fails.\n",
        "\n",
        "Below is a code cell you can adapt. The main equations are summarized in the text (e.g., N<sub>A</sub> tan(φ<sub>A</sub>) + N<sub>B</sub> tan(φ<sub>B</sub>) must exceed driving forces along each plane). If you prefer the polygon of forces or the Schmidt net approach, you can approximate or simplify it here for demonstration.\n"
      ]
    },
    {
      "cell_type": "code",
      "execution_count": null,
      "metadata": {
        "id": "uAidckmFloPA"
      },
      "outputs": [],
      "source": [
        "# Part 2: Wedge (Spatial) Sliding\n",
        "def wedge_sliding_fos(W, phiA_deg, phiB_deg, dipA_deg, dipB_deg, intersection_dip_deg, water_pressure_ratio=0.0):\n",
        "    \"\"\"\n",
        "    Estimates a factor of safety for a wedge defined by two planes A and B.\n",
        "    This is a highly simplified approach, referencing the concepts in Figs. 10.45–10.47.\n",
        "\n",
        "    Parameters:\n",
        "    W                 : Weight of the wedge (kN)\n",
        "    phiA_deg, phiB_deg: Friction angles on planes A & B (degrees)\n",
        "    dipA_deg, dipB_deg: Dips of planes A & B (degrees)\n",
        "    intersection_dip_deg : Dip of line of intersection (degrees)\n",
        "    water_pressure_ratio  : Approx fraction that reduces normal forces on each plane\n",
        "\n",
        "    Returns:\n",
        "    Approx factor of safety for the wedge (dimensionless)\n",
        "    \"\"\"\n",
        "    phiA = np.radians(phiA_deg)\n",
        "    phiB = np.radians(phiB_deg)\n",
        "    dipA = np.radians(dipA_deg)\n",
        "    dipB = np.radians(dipB_deg)\n",
        "    dipI = np.radians(intersection_dip_deg)\n",
        "\n",
        "    # Very rough approach: assume some distribution of wedge weight onto plane A vs. plane B\n",
        "    # Typically, you'd project the wedge's weight vector onto each plane normal.\n",
        "    # For demonstration, let's say plane A and plane B each carry half of the normal load\n",
        "    # and a portion is subtracted by water pressure ratio.\n",
        "\n",
        "    NA = (W / 2.0) * np.cos(dipA) * (1 - water_pressure_ratio)\n",
        "    NB = (W / 2.0) * np.cos(dipB) * (1 - water_pressure_ratio)\n",
        "\n",
        "    # Driving force might be W sin(dipI), if the line of intersection daylights the slope\n",
        "    D = W * np.sin(dipI)\n",
        "\n",
        "    # Resisting on each plane\n",
        "    RA = NA * np.tan(phiA)\n",
        "    RB = NB * np.tan(phiB)\n",
        "\n",
        "    # Combined resisting force\n",
        "    R_total = RA + RB\n",
        "\n",
        "    if D == 0:\n",
        "        return np.inf\n",
        "\n",
        "    return R_total / D\n",
        "\n",
        "# Test example\n",
        "fos_wedge_test = wedge_sliding_fos(\n",
        "    W=100.0,\n",
        "    phiA_deg=35.0, phiB_deg=30.0,\n",
        "    dipA_deg=40.0, dipB_deg=35.0,\n",
        "    intersection_dip_deg=20.0,\n",
        "    water_pressure_ratio=0.2\n",
        ")\n",
        "print(f\"Example Wedge FOS: {fos_wedge_test:.3f}\")\n"
      ]
    },
    {
      "cell_type": "markdown",
      "metadata": {
        "id": "uqwitTH9loPA"
      },
      "source": [
        "## Part 3: Sensitivity Analysis\n",
        "\n",
        "Now that you have basic functions for both plane and wedge/sliding blocks in rock masses, conduct a sensitivity study. For instance, you can vary:\n",
        "\n",
        "- Friction angles (φ) across a range.\n",
        "- Joint water pressure ratio from 0 to 0.5 or beyond.\n",
        "- Intersection dips or plane dips in a wedge scenario.\n",
        "\n",
        "Then plot the factor of safety against these parameters, just as you did in prior assignments for slope angle. Discuss how water pressure quickly undermines stability, or how certain dip angles lead to abrupt shifts from stable to unstable conditions.\n",
        "\n",
        "### Task\n",
        "1. Choose one of your function-based models (plane sliding or wedge).\n",
        "2. Generate a sequence of parameter values (e.g., friction angles from 20° to 45°, or water pressure ratio from 0 to 0.5).\n",
        "3. Compute factor of safety for each increment.\n",
        "4. Produce a plot with appropriate labels and a reference line for FOS = 1.0.\n",
        "5. Discuss your observations briefly in a separate Markdown cell.\n"
      ]
    },
    {
      "cell_type": "code",
      "execution_count": null,
      "metadata": {
        "id": "q3qvQhy7loPA"
      },
      "outputs": [],
      "source": [
        "# Part 3: Sensitivity Analysis Example\n",
        "def sensitivity_wedge_sliding():\n",
        "    friction_values = np.arange(20, 46, 5)\n",
        "    fos_results = []\n",
        "\n",
        "    # We'll keep other parameters fixed for demonstration\n",
        "    for phiA_deg in friction_values:\n",
        "        fos_val = wedge_sliding_fos(\n",
        "            W=100.0,\n",
        "            phiA_deg=phiA_deg,\n",
        "            phiB_deg=30.0,    # fixed\n",
        "            dipA_deg=40.0,    # fixed\n",
        "            dipB_deg=35.0,    # fixed\n",
        "            intersection_dip_deg=20.0,\n",
        "            water_pressure_ratio=0.2\n",
        "        )\n",
        "        fos_results.append(fos_val)\n",
        "\n",
        "    # Plotting\n",
        "    plt.figure(figsize=(6,4))\n",
        "    plt.plot(friction_values, fos_results, marker='o')\n",
        "    plt.axhline(y=1.0, color='r', linestyle='--', label=\"FOS=1.0\")\n",
        "    plt.title(\"Wedge Sliding Sensitivity: Varying Plane A Friction Angle (phiA)\")\n",
        "    plt.xlabel(\"Friction Angle phiA (degrees)\")\n",
        "    plt.ylabel(\"Factor of Safety\")\n",
        "    plt.grid(True)\n",
        "    plt.legend()\n",
        "    plt.show()\n",
        "\n",
        "# Execute the sensitivity analysis\n",
        "sensitivity_wedge_sliding()\n"
      ]
    },
    {
      "cell_type": "markdown",
      "metadata": {
        "id": "fPT1CEDKloPB"
      },
      "source": [
        "## Submission Instructions\n",
        "\n",
        "1. Ensure each part of your notebook is clearly labeled:\n",
        "   - Plane Sliding in Rock Mass (Part 1)\n",
        "   - Spatial (Wedge) Sliding (Part 2)\n",
        "   - Sensitivity Analysis (Part 3)\n",
        "2. Provide inline comments or Markdown explanations referencing relevant figures (10.39–10.50) and any equations from the text.\n",
        "3. Summarize your key findings at the end. Discuss where your simplified assumptions might differ from real field conditions (e.g., partial joint persistence, rock bridges, uneven water pressure).\n",
        "4. Upload your completed notebook (including all code cells, Markdown documentation, and plots) to the designated course platform.\n",
        "\n",
        "Remember, the code sketches here are only examples to get you started. You may refine, add more parameters, or introduce advanced geometry to match the complexity you feel is necessary for your analysis.\n",
        "\n",
        "End of Assignment\n"
      ]
    }
  ],
  "metadata": {
    "language_info": {
      "name": "python"
    },
    "colab": {
      "provenance": [],
      "include_colab_link": true
    }
  },
  "nbformat": 4,
  "nbformat_minor": 0
}